{
 "cells": [
  {
   "cell_type": "code",
   "execution_count": 41,
   "metadata": {},
   "outputs": [],
   "source": [
    "# !pip install tensorflow"
   ]
  },
  {
   "cell_type": "code",
   "execution_count": 42,
   "metadata": {},
   "outputs": [
    {
     "data": {
      "text/plain": [
       "'2.11.0'"
      ]
     },
     "execution_count": 42,
     "metadata": {},
     "output_type": "execute_result"
    }
   ],
   "source": [
    "import tensorflow as tf\n",
    "\n",
    "tf.__version__"
   ]
  },
  {
   "attachments": {},
   "cell_type": "markdown",
   "metadata": {},
   "source": [
    "----"
   ]
  },
  {
   "attachments": {},
   "cell_type": "markdown",
   "metadata": {},
   "source": [
    "### 회귀분석"
   ]
  },
  {
   "cell_type": "code",
   "execution_count": 43,
   "metadata": {},
   "outputs": [],
   "source": [
    "# 회귀분석의 기초 _ 가장 훌륭한 예측선 그리기\n",
    "\n",
    "# 최소 제곱\n",
    "\n",
    "import numpy as np\n",
    "import pandas as pd\n",
    "\n",
    "# 공부한 시간과 점수를 각각 x,y 변수에 넣기 \n",
    "x = np.array([2,4,6,8])\n",
    "y = np.array([81,93,91,97])"
   ]
  },
  {
   "cell_type": "code",
   "execution_count": 44,
   "metadata": {},
   "outputs": [
    {
     "name": "stdout",
     "output_type": "stream",
     "text": [
      "x의 평균값:  5.0\n",
      "y의 평균값:  90.5\n"
     ]
    }
   ],
   "source": [
    "# x와 y의 평균값구하기 \n",
    "\n",
    "mx = np.mean(x)\n",
    "my = np.mean(y)\n",
    "\n",
    "# 출력해서 확인 \n",
    "print('x의 평균값: ', mx)\n",
    "print('y의 평균값: ', my)\n"
   ]
  },
  {
   "cell_type": "code",
   "execution_count": 45,
   "metadata": {},
   "outputs": [
    {
     "name": "stdout",
     "output_type": "stream",
     "text": [
      "분모:  20.0\n",
      "분자:  46.0\n"
     ]
    }
   ],
   "source": [
    "# 기울기 공식 : y = wx + b 구하기 \n",
    "\n",
    "# 최소제곱법의 분모를 만들기 \n",
    "\n",
    "divisor = sum([(i-mx)**2 for i in x ])\n",
    "\n",
    "# 최소제곱법의 분자 만들기 \n",
    "def top(x,mx,y,my):\n",
    "    d = 0\n",
    "    for i in range(len(x)):\n",
    "        d += (x[i]-mx)*(y[i]-my)\n",
    "    return d\n",
    "\n",
    "dividend = top(x,mx,y,my)\n",
    "\n",
    "print(\"분모: \", divisor)\n",
    "print(\"분자: \", dividend)"
   ]
  },
  {
   "cell_type": "code",
   "execution_count": 46,
   "metadata": {},
   "outputs": [
    {
     "name": "stdout",
     "output_type": "stream",
     "text": [
      "기울기 w:  2.3\n",
      "y절편 b:  79.0\n",
      "가장 훌륭한 예측선은 2 * x + 79 이다\n"
     ]
    }
   ],
   "source": [
    "# 평균제곱 오차 구하기 \n",
    "\n",
    "w = dividend / divisor\n",
    "\n",
    "# 절편 b\n",
    "b = my - (mx*w)\n",
    "\n",
    "print(\"기울기 w: \", w)\n",
    "print(\"y절편 b: \", b)\n",
    "print(\"가장 훌륭한 예측선은 %d * x + %d 이다\" %(w,b))"
   ]
  },
  {
   "attachments": {},
   "cell_type": "markdown",
   "metadata": {},
   "source": [
    "----"
   ]
  },
  {
   "attachments": {},
   "cell_type": "markdown",
   "metadata": {},
   "source": [
    "### 평균제곱오차 "
   ]
  },
  {
   "cell_type": "code",
   "execution_count": 47,
   "metadata": {},
   "outputs": [],
   "source": [
    "# 임의의 가상의 기울기값 w, 절편 b를 입력\n",
    "\n",
    "w = 3 \n",
    "b = 76\n",
    "\n",
    "x = np.array([2,4,6,8])\n",
    "y = np.array([81,93,91,97])"
   ]
  },
  {
   "cell_type": "code",
   "execution_count": 48,
   "metadata": {},
   "outputs": [
    {
     "name": "stdout",
     "output_type": "stream",
     "text": [
      "공부한 시간: 2.00, 실제 점수: 81.00, 예측점수: 82.00\n",
      "공부한 시간: 4.00, 실제 점수: 93.00, 예측점수: 88.00\n",
      "공부한 시간: 6.00, 실제 점수: 91.00, 예측점수: 94.00\n",
      "공부한 시간: 8.00, 실제 점수: 97.00, 예측점수: 100.00\n"
     ]
    }
   ],
   "source": [
    "# 예측함수 만들기 (pred = wx + b) \n",
    "def predict(x):\n",
    "    return w*x + b\n",
    "\n",
    "# 예측값이 들어갈 빈 리스트 만들기 \n",
    "result = []\n",
    "\n",
    "# 모든 X 값을 한번씩 대입 >> RESULT LIST 넣어줘 \n",
    "\n",
    "for i in range(len(x)):\n",
    "    result.append(predict(x[i]))\n",
    "    print('공부한 시간: %.2f, 실제 점수: %.2f, 예측점수: %.2f' %(x[i],y[i],predict(x[i])))"
   ]
  },
  {
   "cell_type": "code",
   "execution_count": 49,
   "metadata": {},
   "outputs": [
    {
     "name": "stdout",
     "output_type": "stream",
     "text": [
      "평균제곱오차: 11.0\n",
      "평균제곱오차: 11.00\n",
      "11.0\n"
     ]
    }
   ],
   "source": [
    "# 평균제곱 오차 함수 이용, 각 y 값에 대입 >> 최종값 구하기\n",
    "\n",
    "n = len(x)\n",
    "\n",
    "def mse(y,y_pred):\n",
    "    return (1/n) * sum((y-y_pred)**2)\n",
    "\n",
    "\n",
    "\n",
    "# 평균제곱오차 출력 \n",
    "print('평균제곱오차: '+ str(mse(y, result))) \n",
    "\n",
    "print('평균제곱오차: %.2f' %(mse(y, result)))\n",
    "\n",
    "print(mse(y,result))"
   ]
  },
  {
   "cell_type": "code",
   "execution_count": 50,
   "metadata": {},
   "outputs": [],
   "source": [
    "# print('평균제곱오차: '+ mse(y, result))\n",
    "\n",
    "# type error \n",
    "# can only concatenate str (not \"numpy.float64\") to str\n",
    "# str과 numpy를 +로 연결할때 타입에러 >> numpy 를 str로 변환 "
   ]
  },
  {
   "attachments": {},
   "cell_type": "markdown",
   "metadata": {},
   "source": [
    "---"
   ]
  },
  {
   "cell_type": "code",
   "execution_count": null,
   "metadata": {},
   "outputs": [],
   "source": []
  }
 ],
 "metadata": {
  "kernelspec": {
   "display_name": "base",
   "language": "python",
   "name": "python3"
  },
  "language_info": {
   "codemirror_mode": {
    "name": "ipython",
    "version": 3
   },
   "file_extension": ".py",
   "mimetype": "text/x-python",
   "name": "python",
   "nbconvert_exporter": "python",
   "pygments_lexer": "ipython3",
   "version": "3.9.13"
  },
  "orig_nbformat": 4,
  "vscode": {
   "interpreter": {
    "hash": "cdc39e443ea307de8aa7604762fbb2189aeb27cc73a89ab517ba77baa1ec1ff1"
   }
  }
 },
 "nbformat": 4,
 "nbformat_minor": 2
}
