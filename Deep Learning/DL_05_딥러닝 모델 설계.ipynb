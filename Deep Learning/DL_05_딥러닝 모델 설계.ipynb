{
 "cells": [
  {
   "cell_type": "code",
   "execution_count": 1,
   "metadata": {},
   "outputs": [],
   "source": [
    "import os"
   ]
  },
  {
   "cell_type": "code",
   "execution_count": 2,
   "metadata": {},
   "outputs": [
    {
     "data": {
      "text/plain": [
       "'c:\\\\Users\\\\SBAuser\\\\Desktop\\\\code\\\\class\\\\deep learning'"
      ]
     },
     "execution_count": 2,
     "metadata": {},
     "output_type": "execute_result"
    }
   ],
   "source": [
    "os.getcwd()"
   ]
  },
  {
   "attachments": {},
   "cell_type": "markdown",
   "metadata": {},
   "source": [
    "---"
   ]
  },
  {
   "cell_type": "code",
   "execution_count": 1,
   "metadata": {},
   "outputs": [],
   "source": [
    "from tensorflow.keras.models import Sequential\n",
    "from tensorflow.keras.layers import Dense\n",
    "\n",
    "import numpy as np\n",
    "import pandas as pd"
   ]
  },
  {
   "cell_type": "code",
   "execution_count": 4,
   "metadata": {},
   "outputs": [
    {
     "data": {
      "text/plain": [
       "array([[ 1.  ,  2.88,  2.16,  1.  ,  0.  ,  0.  ,  0.  ,  1.  ,  1.  ,\n",
       "         3.  ,  0.  ,  0.  ,  0.  ,  1.  ,  0.  , 60.  ,  0.  ],\n",
       "       [ 2.  ,  3.4 ,  1.88,  0.  ,  0.  ,  0.  ,  0.  ,  0.  ,  0.  ,\n",
       "         1.  ,  0.  ,  0.  ,  0.  ,  1.  ,  0.  , 51.  ,  0.  ],\n",
       "       [ 2.  ,  2.76,  2.08,  1.  ,  0.  ,  0.  ,  0.  ,  1.  ,  0.  ,\n",
       "         0.  ,  0.  ,  0.  ,  0.  ,  1.  ,  0.  , 59.  ,  0.  ],\n",
       "       [ 2.  ,  3.68,  3.04,  0.  ,  0.  ,  0.  ,  0.  ,  0.  ,  0.  ,\n",
       "         0.  ,  0.  ,  0.  ,  0.  ,  0.  ,  0.  , 54.  ,  0.  ],\n",
       "       [ 2.  ,  2.44,  0.96,  2.  ,  0.  ,  1.  ,  0.  ,  1.  ,  1.  ,\n",
       "         0.  ,  0.  ,  0.  ,  0.  ,  1.  ,  0.  , 73.  ,  1.  ],\n",
       "       [ 2.  ,  2.48,  1.88,  1.  ,  0.  ,  0.  ,  0.  ,  1.  ,  0.  ,\n",
       "         0.  ,  0.  ,  0.  ,  0.  ,  0.  ,  0.  , 51.  ,  0.  ],\n",
       "       [ 2.  ,  4.36,  3.28,  1.  ,  0.  ,  0.  ,  0.  ,  1.  ,  0.  ,\n",
       "         1.  ,  1.  ,  0.  ,  0.  ,  1.  ,  0.  , 59.  ,  1.  ],\n",
       "       [ 1.  ,  3.19,  2.5 ,  1.  ,  0.  ,  0.  ,  0.  ,  1.  ,  0.  ,\n",
       "         0.  ,  0.  ,  0.  ,  1.  ,  1.  ,  0.  , 66.  ,  1.  ],\n",
       "       [ 2.  ,  3.16,  2.64,  2.  ,  0.  ,  0.  ,  0.  ,  1.  ,  1.  ,\n",
       "         0.  ,  0.  ,  0.  ,  0.  ,  1.  ,  0.  , 68.  ,  0.  ],\n",
       "       [ 2.  ,  2.32,  2.16,  1.  ,  0.  ,  0.  ,  0.  ,  1.  ,  0.  ,\n",
       "         0.  ,  0.  ,  0.  ,  0.  ,  1.  ,  0.  , 54.  ,  0.  ]])"
      ]
     },
     "execution_count": 4,
     "metadata": {},
     "output_type": "execute_result"
    }
   ],
   "source": [
    "path = './data/ThoraricSurgery3.csv'\n",
    "data = np.loadtxt(path,delimiter=',')\n",
    "data[:10]"
   ]
  },
  {
   "cell_type": "code",
   "execution_count": 10,
   "metadata": {},
   "outputs": [],
   "source": [
    "X = data[:,:-1]\n",
    "y = data[:,-1]"
   ]
  },
  {
   "cell_type": "code",
   "execution_count": 11,
   "metadata": {},
   "outputs": [],
   "source": [
    "#딥러닝 모델 구조 결정\n",
    "\n",
    "model = Sequential()\n",
    "model.add(Dense(30, input_dim=16, activation = 'relu')) \n",
    "# 은닉층 / 반드시 input_dim 포함 \n",
    "# # RELU >> 기울기 소실 문제때문에 RELU 활성화 함수 사용\n",
    "model.add(Dense(1,activation='sigmoid')) \n",
    "# 출력층 / 이진분류 : sigmoid (1,0 분류)"
   ]
  },
  {
   "cell_type": "code",
   "execution_count": 13,
   "metadata": {},
   "outputs": [
    {
     "name": "stdout",
     "output_type": "stream",
     "text": [
      "Epoch 1/10\n",
      "30/30 [==============================] - 0s 648us/step - loss: 0.4203 - accuracy: 0.8511\n",
      "Epoch 2/10\n",
      "30/30 [==============================] - 0s 639us/step - loss: 0.4168 - accuracy: 0.8511\n",
      "Epoch 3/10\n",
      "30/30 [==============================] - 0s 596us/step - loss: 0.4105 - accuracy: 0.8511\n",
      "Epoch 4/10\n",
      "30/30 [==============================] - 0s 607us/step - loss: 0.4124 - accuracy: 0.8511\n",
      "Epoch 5/10\n",
      "30/30 [==============================] - 0s 636us/step - loss: 0.4172 - accuracy: 0.8553\n",
      "Epoch 6/10\n",
      "30/30 [==============================] - 0s 595us/step - loss: 0.4062 - accuracy: 0.8511\n",
      "Epoch 7/10\n",
      "30/30 [==============================] - 0s 606us/step - loss: 0.4051 - accuracy: 0.8511\n",
      "Epoch 8/10\n",
      "30/30 [==============================] - 0s 614us/step - loss: 0.4089 - accuracy: 0.8489\n",
      "Epoch 9/10\n",
      "30/30 [==============================] - 0s 571us/step - loss: 0.4008 - accuracy: 0.8511\n",
      "Epoch 10/10\n",
      "30/30 [==============================] - 0s 596us/step - loss: 0.4003 - accuracy: 0.8511\n"
     ]
    }
   ],
   "source": [
    "# 모델 실행\n",
    "\n",
    "model.compile(loss='binary_crossentropy', optimizer='adam',metrics=['accuracy']) # 이진 분류\n",
    "history = model.fit(X,y, epochs=10, batch_size=16) \n",
    "# 독립변수 여러개일 수 있어서 대문자 X로 표현 >> 약속"
   ]
  },
  {
   "attachments": {},
   "cell_type": "markdown",
   "metadata": {},
   "source": [
    "---"
   ]
  }
 ],
 "metadata": {
  "kernelspec": {
   "display_name": "base",
   "language": "python",
   "name": "python3"
  },
  "language_info": {
   "codemirror_mode": {
    "name": "ipython",
    "version": 3
   },
   "file_extension": ".py",
   "mimetype": "text/x-python",
   "name": "python",
   "nbconvert_exporter": "python",
   "pygments_lexer": "ipython3",
   "version": "3.9.13"
  },
  "orig_nbformat": 4,
  "vscode": {
   "interpreter": {
    "hash": "cdc39e443ea307de8aa7604762fbb2189aeb27cc73a89ab517ba77baa1ec1ff1"
   }
  }
 },
 "nbformat": 4,
 "nbformat_minor": 2
}
