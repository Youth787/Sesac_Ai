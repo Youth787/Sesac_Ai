{
 "cells": [
  {
   "cell_type": "code",
   "execution_count": 59,
   "metadata": {},
   "outputs": [],
   "source": [
    "# 순환 신경망\n",
    "\n",
    "# LSTM 이용, 로이터 뉴스 카테고리 분류\n",
    "\n",
    "from tensorflow.keras.models import Sequential\n",
    "from tensorflow.keras.layers import Dense, LSTM, Embedding, Conv1D, MaxPooling1D, Dropout\n",
    "from tensorflow.keras.utils import to_categorical\n",
    "from tensorflow.keras.datasets import imdb\n",
    "from tensorflow.keras.preprocessing import sequence\n",
    "from tensorflow.keras.datasets import reuters\n",
    "from tensorflow.keras.callbacks import EarlyStopping\n",
    "from tensorflow.keras.utils import plot_model\n",
    "\n",
    "from attention import Attention"
   ]
  },
  {
   "cell_type": "code",
   "execution_count": 32,
   "metadata": {},
   "outputs": [],
   "source": [
    "import numpy as np\n",
    "import pandas as pd\n",
    "import matplotlib.pyplot as plt"
   ]
  },
  {
   "cell_type": "code",
   "execution_count": 33,
   "metadata": {},
   "outputs": [],
   "source": [
    "# 데이터 가져오기 \n",
    "(x_train, y_train),(x_test, y_test) = reuters.load_data(num_words=1000,test_split=0.2) \n",
    "# num_words 빈도수가 큰 것을 기준으로 구분된 1000개의 단어를 가져온다. "
   ]
  },
  {
   "cell_type": "code",
   "execution_count": 34,
   "metadata": {},
   "outputs": [
    {
     "name": "stdout",
     "output_type": "stream",
     "text": [
      "46 종류(카테고리)\n",
      "8982 학습용 뉴스기사\n",
      "2246 테스트용 뉴스기사\n"
     ]
    }
   ],
   "source": [
    "# 데이터 확인\n",
    "\n",
    "category = np.max(y_train) +1\n",
    "print(category, '종류(카테고리)')\n",
    "print(len(x_train),'학습용 뉴스기사')\n",
    "print(len(x_test),'테스트용 뉴스기사')"
   ]
  },
  {
   "cell_type": "code",
   "execution_count": 35,
   "metadata": {},
   "outputs": [
    {
     "data": {
      "text/plain": [
       "8982"
      ]
     },
     "execution_count": 35,
     "metadata": {},
     "output_type": "execute_result"
    }
   ],
   "source": [
    "len(y_train)"
   ]
  },
  {
   "cell_type": "code",
   "execution_count": 36,
   "metadata": {},
   "outputs": [],
   "source": [
    "# 단어의 수 맞춰보기\n",
    "\n",
    "x_train = sequence.pad_sequences(x_train, maxlen=100)\n",
    "x_test = sequence.pad_sequences(x_test,maxlen=100)"
   ]
  },
  {
   "cell_type": "code",
   "execution_count": 37,
   "metadata": {},
   "outputs": [
    {
     "data": {
      "text/plain": [
       "array([ 3,  4,  3, ..., 25,  3, 25], dtype=int64)"
      ]
     },
     "execution_count": 37,
     "metadata": {},
     "output_type": "execute_result"
    }
   ],
   "source": [
    "y_train"
   ]
  },
  {
   "cell_type": "code",
   "execution_count": 38,
   "metadata": {},
   "outputs": [],
   "source": [
    "# 원-핫 인코딩 처리\n",
    "\n",
    "y_train = to_categorical(y_train)\n",
    "y_test = to_categorical(y_test)"
   ]
  },
  {
   "cell_type": "code",
   "execution_count": 39,
   "metadata": {},
   "outputs": [
    {
     "data": {
      "text/plain": [
       "array([[0., 0., 0., ..., 0., 0., 0.],\n",
       "       [0., 0., 0., ..., 0., 0., 0.],\n",
       "       [0., 0., 0., ..., 0., 0., 0.],\n",
       "       ...,\n",
       "       [0., 0., 0., ..., 0., 0., 0.],\n",
       "       [0., 0., 0., ..., 0., 0., 0.],\n",
       "       [0., 0., 0., ..., 0., 0., 0.]], dtype=float32)"
      ]
     },
     "execution_count": 39,
     "metadata": {},
     "output_type": "execute_result"
    }
   ],
   "source": [
    "y_train"
   ]
  },
  {
   "cell_type": "code",
   "execution_count": 40,
   "metadata": {},
   "outputs": [
    {
     "name": "stdout",
     "output_type": "stream",
     "text": [
      "Epoch 1/200\n",
      "450/450 [==============================] - 13s 27ms/step - loss: 2.2553 - accuracy: 0.4231 - val_loss: 2.0097 - val_accuracy: 0.5156\n",
      "Epoch 2/200\n",
      "450/450 [==============================] - 11s 25ms/step - loss: 1.8129 - accuracy: 0.5443 - val_loss: 1.6956 - val_accuracy: 0.5606\n",
      "Epoch 3/200\n",
      "450/450 [==============================] - 11s 24ms/step - loss: 1.6745 - accuracy: 0.5762 - val_loss: 1.6830 - val_accuracy: 0.5735\n",
      "Epoch 4/200\n",
      "450/450 [==============================] - 11s 24ms/step - loss: 1.5148 - accuracy: 0.6152 - val_loss: 1.5205 - val_accuracy: 0.6202\n",
      "Epoch 5/200\n",
      "450/450 [==============================] - 11s 24ms/step - loss: 1.3478 - accuracy: 0.6607 - val_loss: 1.3763 - val_accuracy: 0.6541\n",
      "Epoch 6/200\n",
      "450/450 [==============================] - 12s 26ms/step - loss: 1.2061 - accuracy: 0.6953 - val_loss: 1.3110 - val_accuracy: 0.6701\n",
      "Epoch 7/200\n",
      "450/450 [==============================] - 12s 27ms/step - loss: 1.0860 - accuracy: 0.7292 - val_loss: 1.2069 - val_accuracy: 0.6959\n",
      "Epoch 8/200\n",
      "450/450 [==============================] - 12s 26ms/step - loss: 0.9875 - accuracy: 0.7492 - val_loss: 1.1221 - val_accuracy: 0.7297\n",
      "Epoch 9/200\n",
      "450/450 [==============================] - 12s 26ms/step - loss: 0.9101 - accuracy: 0.7685 - val_loss: 1.1008 - val_accuracy: 0.7226\n",
      "Epoch 10/200\n",
      "450/450 [==============================] - 12s 26ms/step - loss: 0.8480 - accuracy: 0.7825 - val_loss: 1.1062 - val_accuracy: 0.7199\n",
      "Epoch 11/200\n",
      "450/450 [==============================] - 12s 27ms/step - loss: 0.7855 - accuracy: 0.7998 - val_loss: 1.1162 - val_accuracy: 0.7262\n",
      "Epoch 12/200\n",
      "450/450 [==============================] - 12s 26ms/step - loss: 0.7256 - accuracy: 0.8121 - val_loss: 1.1034 - val_accuracy: 0.7346\n",
      "Epoch 13/200\n",
      "450/450 [==============================] - 12s 26ms/step - loss: 0.6704 - accuracy: 0.8323 - val_loss: 1.1215 - val_accuracy: 0.7293\n",
      "Epoch 14/200\n",
      "450/450 [==============================] - 12s 26ms/step - loss: 0.6363 - accuracy: 0.8392 - val_loss: 1.1486 - val_accuracy: 0.7275\n",
      "71/71 [==============================] - 1s 9ms/step - loss: 1.1486 - accuracy: 0.7275\n",
      "\n",
      " 테스트 정확도 :0.7275\n"
     ]
    }
   ],
   "source": [
    "# 모델 구조 \n",
    "\n",
    "model = Sequential()\n",
    "model.add(Embedding(1000,100))\n",
    "model.add(LSTM(100,activation='tanh')) # LSTM은 tanh를 좋아한다. sequence data니까. \n",
    "model.add(Dense(46,activation='softmax')) # 46개 카테고리 별 출력 \n",
    "\n",
    "# 모델 컴파일\n",
    "\n",
    "model.compile(loss='categorical_crossentropy', optimizer='adam',metrics=['accuracy'])\n",
    "\n",
    "# 학습의 조기 중단 설정\n",
    "early_stopping_callback = EarlyStopping(monitor='val_loss', patience=5)\n",
    "\n",
    "# 모델 실행 \n",
    "history = model.fit(x_train, y_train, batch_size =20, epochs=200, validation_data = (x_test,y_test),\n",
    "          callbacks=[early_stopping_callback])\n",
    "\n",
    "# 테스트 정확도 출력\n",
    "print('\\n 테스트 정확도 :%.4f'%(model.evaluate(x_test,y_test)[1]))\n"
   ]
  },
  {
   "cell_type": "code",
   "execution_count": 42,
   "metadata": {},
   "outputs": [
    {
     "data": {
      "image/png": "[encoded data removed]",
      "text/plain": [
       "<Figure size 640x480 with 1 Axes>"
      ]
     },
     "metadata": {},
     "output_type": "display_data"
    }
   ],
   "source": [
    "# 데이터 시각화\n",
    "y_vloss = history.history['val_loss']\n",
    "y_loss = history.history['loss']\n",
    "\n",
    "# 그래프로 표현\n",
    "x_len = np.arange(len(y_loss))\n",
    "plt.plot(x_len,y_vloss,marker='.',c='red',label='test_split')\n",
    "plt.plot(x_len, y_loss, marker='.',c='blue',label='train_loss')\n",
    "\n",
    "plt.legend(loc='best')\n",
    "plt.grid()\n",
    "plt.xlabel('epoch')\n",
    "plt.ylabel('loss')\n",
    "plt.show()"
   ]
  },
  {
   "attachments": {},
   "cell_type": "markdown",
   "metadata": {},
   "source": [
    "---"
   ]
  },
  {
   "attachments": {},
   "cell_type": "markdown",
   "metadata": {},
   "source": [
    "### LSTM / CNN 조합 >> 영화 리뷰 분류하기"
   ]
  },
  {
   "cell_type": "code",
   "execution_count": 47,
   "metadata": {},
   "outputs": [
    {
     "name": "stdout",
     "output_type": "stream",
     "text": [
      "Downloading data from https://storage.googleapis.com/tensorflow/tf-keras-datasets/imdb.npz\n",
      "17464789/17464789 [==============================] - 0s 0us/step\n"
     ]
    }
   ],
   "source": [
    "# LSTM / CNN 조합 >> 영화 리뷰 분류하기\n",
    "\n",
    "# 데이터 불러오기 \n",
    "\n",
    "(x_train,y_train),(x_test,y_test) = imdb.load_data(num_words=5000)"
   ]
  },
  {
   "cell_type": "code",
   "execution_count": 48,
   "metadata": {},
   "outputs": [],
   "source": [
    "# 단어의 수를 맞추어 주기\n",
    "x_train = sequence.pad_sequences(x_train,maxlen=500)\n",
    "x_test = sequence.pad_sequences(x_test,maxlen=500)"
   ]
  },
  {
   "cell_type": "code",
   "execution_count": 49,
   "metadata": {},
   "outputs": [
    {
     "data": {
      "text/plain": [
       "array([[   0,    0,    0, ...,   19,  178,   32],\n",
       "       [   0,    0,    0, ...,   16,  145,   95],\n",
       "       [   0,    0,    0, ...,    7,  129,  113],\n",
       "       ...,\n",
       "       [   0,    0,    0, ...,    4, 3586,    2],\n",
       "       [   0,    0,    0, ...,   12,    9,   23],\n",
       "       [   0,    0,    0, ...,  204,  131,    9]])"
      ]
     },
     "execution_count": 49,
     "metadata": {},
     "output_type": "execute_result"
    }
   ],
   "source": [
    "x_train"
   ]
  },
  {
   "cell_type": "code",
   "execution_count": 55,
   "metadata": {},
   "outputs": [
    {
     "name": "stdout",
     "output_type": "stream",
     "text": [
      "Model: \"sequential_8\"\n",
      "_________________________________________________________________\n",
      " Layer (type)                Output Shape              Param #   \n",
      "=================================================================\n",
      " embedding_8 (Embedding)     (None, None, 100)         500000    \n",
      "                                                                 \n",
      " dropout_2 (Dropout)         (None, None, 100)         0         \n",
      "                                                                 \n",
      " conv1d_1 (Conv1D)           (None, None, 64)          32064     \n",
      "                                                                 \n",
      " max_pooling1d_1 (MaxPooling  (None, None, 64)         0         \n",
      " 1D)                                                             \n",
      "                                                                 \n",
      " lstm_8 (LSTM)               (None, 55)                26400     \n",
      "                                                                 \n",
      " dense_7 (Dense)             (None, 1)                 56        \n",
      "                                                                 \n",
      "=================================================================\n",
      "Total params: 558,520\n",
      "Trainable params: 558,520\n",
      "Non-trainable params: 0\n",
      "_________________________________________________________________\n"
     ]
    }
   ],
   "source": [
    "# 모델 구조 설정\n",
    "\n",
    "model = Sequential()\n",
    "model.add(Embedding(5000,100))\n",
    "model.add(Dropout(0.5))\n",
    "model.add(Conv1D(64,5,padding='valid', activation='relu', strides=1)) \n",
    "model.add(MaxPooling1D(pool_size=4))\n",
    "model.add(LSTM(55))\n",
    "model.add(Dense(1,activation='sigmoid'))\n",
    "model.summary()"
   ]
  },
  {
   "cell_type": "code",
   "execution_count": 56,
   "metadata": {},
   "outputs": [
    {
     "name": "stdout",
     "output_type": "stream",
     "text": [
      "Epoch 1/200\n",
      "469/469 [==============================] - 24s 49ms/step - loss: 0.4268 - accuracy: 0.7855 - val_loss: 0.2814 - val_accuracy: 0.8875\n",
      "Epoch 2/200\n",
      "469/469 [==============================] - 24s 50ms/step - loss: 0.2380 - accuracy: 0.9051 - val_loss: 0.2604 - val_accuracy: 0.8917\n",
      "Epoch 3/200\n",
      "469/469 [==============================] - 25s 54ms/step - loss: 0.1869 - accuracy: 0.9294 - val_loss: 0.2741 - val_accuracy: 0.8922\n",
      "Epoch 4/200\n",
      "469/469 [==============================] - 25s 53ms/step - loss: 0.1445 - accuracy: 0.9482 - val_loss: 0.2890 - val_accuracy: 0.8898\n",
      "Epoch 5/200\n",
      "469/469 [==============================] - 25s 54ms/step - loss: 0.1161 - accuracy: 0.9597 - val_loss: 0.3124 - val_accuracy: 0.8846\n",
      "Epoch 6/200\n",
      "469/469 [==============================] - 25s 53ms/step - loss: 0.1011 - accuracy: 0.9636 - val_loss: 0.3387 - val_accuracy: 0.8806\n",
      "Epoch 7/200\n",
      "469/469 [==============================] - 25s 54ms/step - loss: 0.0731 - accuracy: 0.9761 - val_loss: 0.3798 - val_accuracy: 0.8826\n",
      "782/782 [==============================] - 9s 11ms/step - loss: 0.3909 - accuracy: 0.8784\n",
      "\n",
      " 테스트 정확도 : 0.8784\n"
     ]
    }
   ],
   "source": [
    "# 모델 실행 \n",
    "\n",
    "model.compile(loss='binary_crossentropy',optimizer='adam', metrics=['accuracy'])\n",
    "\n",
    "# 조기 중단 설정 \n",
    "\n",
    "early_stopping_callback = EarlyStopping(monitor='val_loss', patience=5)\n",
    "\n",
    "history = model.fit(x_train, y_train, batch_size=40, epochs=200, validation_split=0.25, callbacks=[early_stopping_callback])\n",
    "\n",
    "# 테스트 정확도 출력\n",
    "print('\\n 테스트 정확도 : %.4f' %model.evaluate(x_test, y_test)[1])"
   ]
  },
  {
   "cell_type": "code",
   "execution_count": 57,
   "metadata": {},
   "outputs": [
    {
     "data": {
      "image/png": "[encoded data removed]",
      "text/plain": [
       "<Figure size 640x480 with 1 Axes>"
      ]
     },
     "metadata": {},
     "output_type": "display_data"
    }
   ],
   "source": [
    "# 데이터 시각화\n",
    "\n",
    "y_vloss = history.history['val_loss']\n",
    "y_loss = history.history['loss']\n",
    "\n",
    "# 그래프 표현 \n",
    "x_len = np.arange(len(y_loss))\n",
    "plt.plot(x_len, y_vloss, marker='.',c='red',label='Testset_loss')\n",
    "plt.plot(x_len,y_loss, marker='.',c='blue',label='Trainset_loss')\n",
    "\n",
    "plt.legend(loc='best')\n",
    "plt.grid()\n",
    "plt.xlabel('epoch')\n",
    "plt.ylabel('loss')\n",
    "plt.show()"
   ]
  },
  {
   "attachments": {},
   "cell_type": "markdown",
   "metadata": {},
   "source": [
    "---"
   ]
  },
  {
   "attachments": {},
   "cell_type": "markdown",
   "metadata": {},
   "source": [
    "### 어텐션 신경망"
   ]
  },
  {
   "cell_type": "code",
   "execution_count": 58,
   "metadata": {},
   "outputs": [
    {
     "name": "stdout",
     "output_type": "stream",
     "text": [
      "Collecting attention\n",
      "  Downloading attention-4.1-py3-none-any.whl (8.6 kB)\n",
      "Requirement already satisfied: numpy>=1.18.1 in c:\\users\\sbauser\\appdata\\roaming\\python\\python39\\site-packages (from attention) (1.24.1)\n",
      "Requirement already satisfied: tensorflow>=2.1 in c:\\users\\sbauser\\anaconda3\\anaconda4\\lib\\site-packages (from attention) (2.11.0)\n",
      "Requirement already satisfied: tensorflow-intel==2.11.0 in c:\\users\\sbauser\\anaconda3\\anaconda4\\lib\\site-packages (from tensorflow>=2.1->attention) (2.11.0)\n",
      "Requirement already satisfied: h5py>=2.9.0 in c:\\users\\sbauser\\anaconda3\\anaconda4\\lib\\site-packages (from tensorflow-intel==2.11.0->tensorflow>=2.1->attention) (3.7.0)\n",
      "Requirement already satisfied: opt-einsum>=2.3.2 in c:\\users\\sbauser\\anaconda3\\anaconda4\\lib\\site-packages (from tensorflow-intel==2.11.0->tensorflow>=2.1->attention) (3.3.0)\n",
      "Requirement already satisfied: grpcio<2.0,>=1.24.3 in c:\\users\\sbauser\\anaconda3\\anaconda4\\lib\\site-packages (from tensorflow-intel==2.11.0->tensorflow>=2.1->attention) (1.51.1)\n",
      "Requirement already satisfied: packaging in c:\\users\\sbauser\\appdata\\roaming\\python\\python39\\site-packages (from tensorflow-intel==2.11.0->tensorflow>=2.1->attention) (23.0)\n",
      "Requirement already satisfied: typing-extensions>=3.6.6 in c:\\users\\sbauser\\anaconda3\\anaconda4\\lib\\site-packages (from tensorflow-intel==2.11.0->tensorflow>=2.1->attention) (4.3.0)\n",
      "Requirement already satisfied: wrapt>=1.11.0 in c:\\users\\sbauser\\anaconda3\\anaconda4\\lib\\site-packages (from tensorflow-intel==2.11.0->tensorflow>=2.1->attention) (1.14.1)\n",
      "Requirement already satisfied: tensorflow-estimator<2.12,>=2.11.0 in c:\\users\\sbauser\\anaconda3\\anaconda4\\lib\\site-packages (from tensorflow-intel==2.11.0->tensorflow>=2.1->attention) (2.11.0)\n",
      "Requirement already satisfied: google-pasta>=0.1.1 in c:\\users\\sbauser\\anaconda3\\anaconda4\\lib\\site-packages (from tensorflow-intel==2.11.0->tensorflow>=2.1->attention) (0.2.0)\n",
      "Requirement already satisfied: six>=1.12.0 in c:\\users\\sbauser\\anaconda3\\anaconda4\\lib\\site-packages (from tensorflow-intel==2.11.0->tensorflow>=2.1->attention) (1.16.0)\n",
      "Requirement already satisfied: absl-py>=1.0.0 in c:\\users\\sbauser\\anaconda3\\anaconda4\\lib\\site-packages (from tensorflow-intel==2.11.0->tensorflow>=2.1->attention) (1.4.0)\n",
      "Requirement already satisfied: astunparse>=1.6.0 in c:\\users\\sbauser\\anaconda3\\anaconda4\\lib\\site-packages (from tensorflow-intel==2.11.0->tensorflow>=2.1->attention) (1.6.3)\n",
      "Requirement already satisfied: tensorflow-io-gcs-filesystem>=0.23.1 in c:\\users\\sbauser\\anaconda3\\anaconda4\\lib\\site-packages (from tensorflow-intel==2.11.0->tensorflow>=2.1->attention) (0.30.0)\n",
      "Requirement already satisfied: libclang>=13.0.0 in c:\\users\\sbauser\\anaconda3\\anaconda4\\lib\\site-packages (from tensorflow-intel==2.11.0->tensorflow>=2.1->attention) (15.0.6.1)\n",
      "Requirement already satisfied: gast<=0.4.0,>=0.2.1 in c:\\users\\sbauser\\anaconda3\\anaconda4\\lib\\site-packages (from tensorflow-intel==2.11.0->tensorflow>=2.1->attention) (0.4.0)\n",
      "Requirement already satisfied: keras<2.12,>=2.11.0 in c:\\users\\sbauser\\anaconda3\\anaconda4\\lib\\site-packages (from tensorflow-intel==2.11.0->tensorflow>=2.1->attention) (2.11.0)\n",
      "Requirement already satisfied: setuptools in c:\\users\\sbauser\\anaconda3\\anaconda4\\lib\\site-packages (from tensorflow-intel==2.11.0->tensorflow>=2.1->attention) (63.4.1)\n",
      "Requirement already satisfied: flatbuffers>=2.0 in c:\\users\\sbauser\\anaconda3\\anaconda4\\lib\\site-packages (from tensorflow-intel==2.11.0->tensorflow>=2.1->attention) (23.1.21)\n",
      "Requirement already satisfied: termcolor>=1.1.0 in c:\\users\\sbauser\\anaconda3\\anaconda4\\lib\\site-packages (from tensorflow-intel==2.11.0->tensorflow>=2.1->attention) (2.2.0)\n",
      "Requirement already satisfied: tensorboard<2.12,>=2.11 in c:\\users\\sbauser\\anaconda3\\anaconda4\\lib\\site-packages (from tensorflow-intel==2.11.0->tensorflow>=2.1->attention) (2.11.2)\n",
      "Requirement already satisfied: protobuf<3.20,>=3.9.2 in c:\\users\\sbauser\\anaconda3\\anaconda4\\lib\\site-packages (from tensorflow-intel==2.11.0->tensorflow>=2.1->attention) (3.19.6)\n",
      "Requirement already satisfied: wheel<1.0,>=0.23.0 in c:\\users\\sbauser\\anaconda3\\anaconda4\\lib\\site-packages (from astunparse>=1.6.0->tensorflow-intel==2.11.0->tensorflow>=2.1->attention) (0.37.1)\n",
      "Requirement already satisfied: werkzeug>=1.0.1 in c:\\users\\sbauser\\anaconda3\\anaconda4\\lib\\site-packages (from tensorboard<2.12,>=2.11->tensorflow-intel==2.11.0->tensorflow>=2.1->attention) (2.0.3)\n",
      "Requirement already satisfied: google-auth<3,>=1.6.3 in c:\\users\\sbauser\\anaconda3\\anaconda4\\lib\\site-packages (from tensorboard<2.12,>=2.11->tensorflow-intel==2.11.0->tensorflow>=2.1->attention) (2.16.0)\n",
      "Requirement already satisfied: google-auth-oauthlib<0.5,>=0.4.1 in c:\\users\\sbauser\\anaconda3\\anaconda4\\lib\\site-packages (from tensorboard<2.12,>=2.11->tensorflow-intel==2.11.0->tensorflow>=2.1->attention) (0.4.6)\n",
      "Requirement already satisfied: tensorboard-data-server<0.7.0,>=0.6.0 in c:\\users\\sbauser\\anaconda3\\anaconda4\\lib\\site-packages (from tensorboard<2.12,>=2.11->tensorflow-intel==2.11.0->tensorflow>=2.1->attention) (0.6.1)\n",
      "Requirement already satisfied: tensorboard-plugin-wit>=1.6.0 in c:\\users\\sbauser\\anaconda3\\anaconda4\\lib\\site-packages (from tensorboard<2.12,>=2.11->tensorflow-intel==2.11.0->tensorflow>=2.1->attention) (1.8.1)\n",
      "Requirement already satisfied: requests<3,>=2.21.0 in c:\\users\\sbauser\\anaconda3\\anaconda4\\lib\\site-packages (from tensorboard<2.12,>=2.11->tensorflow-intel==2.11.0->tensorflow>=2.1->attention) (2.28.1)\n",
      "Requirement already satisfied: markdown>=2.6.8 in c:\\users\\sbauser\\anaconda3\\anaconda4\\lib\\site-packages (from tensorboard<2.12,>=2.11->tensorflow-intel==2.11.0->tensorflow>=2.1->attention) (3.3.4)\n",
      "Requirement already satisfied: cachetools<6.0,>=2.0.0 in c:\\users\\sbauser\\anaconda3\\anaconda4\\lib\\site-packages (from google-auth<3,>=1.6.3->tensorboard<2.12,>=2.11->tensorflow-intel==2.11.0->tensorflow>=2.1->attention) (5.3.0)\n",
      "Requirement already satisfied: pyasn1-modules>=0.2.1 in c:\\users\\sbauser\\anaconda3\\anaconda4\\lib\\site-packages (from google-auth<3,>=1.6.3->tensorboard<2.12,>=2.11->tensorflow-intel==2.11.0->tensorflow>=2.1->attention) (0.2.8)\n",
      "Requirement already satisfied: rsa<5,>=3.1.4 in c:\\users\\sbauser\\anaconda3\\anaconda4\\lib\\site-packages (from google-auth<3,>=1.6.3->tensorboard<2.12,>=2.11->tensorflow-intel==2.11.0->tensorflow>=2.1->attention) (4.7.2)\n",
      "Requirement already satisfied: requests-oauthlib>=0.7.0 in c:\\users\\sbauser\\anaconda3\\anaconda4\\lib\\site-packages (from google-auth-oauthlib<0.5,>=0.4.1->tensorboard<2.12,>=2.11->tensorflow-intel==2.11.0->tensorflow>=2.1->attention) (1.3.1)\n",
      "Requirement already satisfied: charset-normalizer<3,>=2 in c:\\users\\sbauser\\anaconda3\\anaconda4\\lib\\site-packages (from requests<3,>=2.21.0->tensorboard<2.12,>=2.11->tensorflow-intel==2.11.0->tensorflow>=2.1->attention) (2.0.4)\n",
      "Requirement already satisfied: urllib3<1.27,>=1.21.1 in c:\\users\\sbauser\\anaconda3\\anaconda4\\lib\\site-packages (from requests<3,>=2.21.0->tensorboard<2.12,>=2.11->tensorflow-intel==2.11.0->tensorflow>=2.1->attention) (1.26.11)\n",
      "Requirement already satisfied: idna<4,>=2.5 in c:\\users\\sbauser\\anaconda3\\anaconda4\\lib\\site-packages (from requests<3,>=2.21.0->tensorboard<2.12,>=2.11->tensorflow-intel==2.11.0->tensorflow>=2.1->attention) (3.3)\n",
      "Requirement already satisfied: certifi>=2017.4.17 in c:\\users\\sbauser\\anaconda3\\anaconda4\\lib\\site-packages (from requests<3,>=2.21.0->tensorboard<2.12,>=2.11->tensorflow-intel==2.11.0->tensorflow>=2.1->attention) (2022.9.14)\n",
      "Requirement already satisfied: pyasn1<0.5.0,>=0.4.6 in c:\\users\\sbauser\\anaconda3\\anaconda4\\lib\\site-packages (from pyasn1-modules>=0.2.1->google-auth<3,>=1.6.3->tensorboard<2.12,>=2.11->tensorflow-intel==2.11.0->tensorflow>=2.1->attention) (0.4.8)\n",
      "Requirement already satisfied: oauthlib>=3.0.0 in c:\\users\\sbauser\\anaconda3\\anaconda4\\lib\\site-packages (from requests-oauthlib>=0.7.0->google-auth-oauthlib<0.5,>=0.4.1->tensorboard<2.12,>=2.11->tensorflow-intel==2.11.0->tensorflow>=2.1->attention) (3.2.2)\n",
      "Installing collected packages: attention\n",
      "Successfully installed attention-4.1\n"
     ]
    }
   ],
   "source": [
    "# 어텐션 (attention) 신경망\n",
    "\n",
    "! pip install attention"
   ]
  },
  {
   "cell_type": "code",
   "execution_count": 60,
   "metadata": {},
   "outputs": [
    {
     "name": "stdout",
     "output_type": "stream",
     "text": [
      "Model: \"sequential_9\"\n",
      "_________________________________________________________________\n",
      " Layer (type)                Output Shape              Param #   \n",
      "=================================================================\n",
      " embedding_9 (Embedding)     (None, None, 500)         2500000   \n",
      "                                                                 \n",
      " lstm_9 (LSTM)               (None, None, 64)          144640    \n",
      "                                                                 \n",
      " attention (Attention)       (None, 128)               20480     \n",
      "                                                                 \n",
      " dropout_3 (Dropout)         (None, 128)               0         \n",
      "                                                                 \n",
      " dense_8 (Dense)             (None, 1)                 129       \n",
      "                                                                 \n",
      "=================================================================\n",
      "Total params: 2,665,249\n",
      "Trainable params: 2,665,249\n",
      "Non-trainable params: 0\n",
      "_________________________________________________________________\n"
     ]
    }
   ],
   "source": [
    "# 모델 구조 재설계\n",
    "\n",
    "model=Sequential()\n",
    "model.add(Embedding(5000,500)) # 5000 개를 500개로\n",
    "model.add(LSTM(64,return_sequences=True))\n",
    "# return_sequences=True >>> 각 시퀀스에서 출력을 해달라는 의미\n",
    "model.add(Attention())\n",
    "model.add(Dropout(0.5))\n",
    "model.add(Dense(1, activation='sigmoid'))\n",
    "model.summary()"
   ]
  },
  {
   "cell_type": "code",
   "execution_count": 61,
   "metadata": {},
   "outputs": [
    {
     "name": "stdout",
     "output_type": "stream",
     "text": [
      "Epoch 1/200\n",
      "625/625 [==============================] - 345s 551ms/step - loss: 0.3713 - accuracy: 0.8283 - val_loss: 0.2952 - val_accuracy: 0.8728\n",
      "Epoch 2/200\n",
      "625/625 [==============================] - 354s 567ms/step - loss: 0.2071 - accuracy: 0.9172 - val_loss: 0.2670 - val_accuracy: 0.8900\n",
      "Epoch 3/200\n",
      "625/625 [==============================] - 360s 576ms/step - loss: 0.1350 - accuracy: 0.9466 - val_loss: 0.3061 - val_accuracy: 0.8838\n",
      "Epoch 4/200\n",
      "625/625 [==============================] - 363s 581ms/step - loss: 0.0898 - accuracy: 0.9649 - val_loss: 0.3913 - val_accuracy: 0.8834\n",
      "Epoch 5/200\n",
      "625/625 [==============================] - 365s 584ms/step - loss: 0.0597 - accuracy: 0.9780 - val_loss: 0.4252 - val_accuracy: 0.8800\n",
      "Epoch 6/200\n",
      "625/625 [==============================] - 367s 588ms/step - loss: 0.0407 - accuracy: 0.9852 - val_loss: 0.4974 - val_accuracy: 0.8730\n",
      "Epoch 7/200\n",
      "625/625 [==============================] - 370s 593ms/step - loss: 0.0329 - accuracy: 0.9882 - val_loss: 0.5923 - val_accuracy: 0.8750\n",
      "782/782 [==============================] - 125s 160ms/step - loss: 0.5923 - accuracy: 0.8750\n",
      "0.8749600052833557\n"
     ]
    }
   ],
   "source": [
    "# 모델 실행 옵션 설정 \n",
    "\n",
    "model.compile(loss='binary_crossentropy',optimizer='adam', metrics=['accuracy'])\n",
    "\n",
    "# 조기종료 옵션 설정 \n",
    "early_stopping_callback = EarlyStopping(monitor='val_loss', patience=5)\n",
    "\n",
    "# 모델 실행 \n",
    "history = model.fit(x_train,y_train, batch_size=40, epochs=200, validation_data=(x_test,y_test),\n",
    "          callbacks=[early_stopping_callback])\n",
    "\n",
    "# 테스트 정확도 출력\n",
    "print('\\n 테스트 정확도: %.4f' %model.evaluate(x_test, y_test)[1])"
   ]
  },
  {
   "cell_type": "code",
   "execution_count": null,
   "metadata": {},
   "outputs": [],
   "source": [
    "# 데이터 시각화\n",
    "\n",
    "y_vloss = history.history['val_loss']\n",
    "y_loss = history.history['loss']\n",
    "\n",
    "# 그래프 표현 \n",
    "x_len = np.arange(len(y_loss))\n",
    "plt.plot(x_len, y_vloss, marker='.',c='red',label='Testset_loss')\n",
    "plt.plot(x_len,y_loss, marker='.',c='blue',label='Trainset_loss')\n",
    "\n",
    "plt.legend(loc='best')\n",
    "plt.grid()\n",
    "plt.xlabel('epoch')\n",
    "plt.ylabel('loss')\n",
    "plt.show()"
   ]
  },
  {
   "attachments": {},
   "cell_type": "markdown",
   "metadata": {},
   "source": [
    "---"
   ]
  }
 ],
 "metadata": {
  "kernelspec": {
   "display_name": "base",
   "language": "python",
   "name": "python3"
  },
  "language_info": {
   "codemirror_mode": {
    "name": "ipython",
    "version": 3
   },
   "file_extension": ".py",
   "mimetype": "text/x-python",
   "name": "python",
   "nbconvert_exporter": "python",
   "pygments_lexer": "ipython3",
   "version": "3.9.13"
  },
  "orig_nbformat": 4
 },
 "nbformat": 4,
 "nbformat_minor": 2
}
