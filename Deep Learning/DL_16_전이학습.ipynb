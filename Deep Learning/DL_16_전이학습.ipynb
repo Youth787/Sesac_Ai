{
 "cells": [
  {
   "cell_type": "code",
   "execution_count": 54,
   "metadata": {},
   "outputs": [],
   "source": [
    "import os "
   ]
  },
  {
   "cell_type": "code",
   "execution_count": 55,
   "metadata": {},
   "outputs": [],
   "source": [
    "from tensorflow.keras.models import Sequential\n",
    "from tensorflow.keras.layers import Dense, Activation, Dropout, Flatten, Conv2D, MaxPool2D\n",
    "from tensorflow.keras.preprocessing.image import ImageDataGenerator\n",
    "from tensorflow.keras.callbacks import EarlyStopping\n",
    "from tensorflow.keras import optimizers, Input, models, layers, optimizers, metrics\n",
    "\n",
    "import numpy as np\n",
    "import pandas as pd\n",
    "import matplotlib.pyplot as plt"
   ]
  },
  {
   "cell_type": "code",
   "execution_count": 56,
   "metadata": {},
   "outputs": [
    {
     "name": "stdout",
     "output_type": "stream",
     "text": [
      "Found 160 images belonging to 2 classes.\n"
     ]
    }
   ],
   "source": [
    "\n",
    "# 학습 데이터 셋을 이미지 증식 설정 하는 부분 \n",
    "train_datagen = ImageDataGenerator(rescale = 1./255,\n",
    "                                  # 주어진 이미지 크기 설정(0~1 설정)\n",
    "                                  horizontal_flip = True,\n",
    "                                  # 수평 대칭 이미지를 50% 확률로 만들어 추가 \n",
    "                                  # 주어진 이미지 수평, 수직으로 뒤집어줌 \n",
    "                                  width_shift_range = 0.1, \n",
    "                                  # 전체 크기의 10% 범위 내에서 좌우로 이동 \n",
    "                                  height_shift_range = 0.1,\n",
    "                                  # 전체 크기의 10% 범위 내에서 상하로 이동 \n",
    "                                  #rotation_range = 5,\n",
    "                                  # 정해진 각도(5도) 만큼 회전 \n",
    "                                  #shear_range =0.7,\n",
    "                                  # 좌표 하나를 고정, 나머지 이동 \n",
    "                                  #zoom_range = 1.2,\n",
    "                                  # 확대, 축소 \n",
    "                                  #vertical_flip =True,\n",
    "                                  # 수직 대칭 이미지 \n",
    "                                  #fill_mode='nearest' \n",
    "                                  # 빈 공간을 채움, nearest 옵션: 가장 비슷한 색으로 채움 \n",
    "                                  )\n",
    "\n",
    "# 학습 데이터 셋이 있는 폴더 위치 지정 \n",
    "train_generator = train_datagen.flow_from_directory(\n",
    "                    './data/train',\n",
    "                    target_size=(150,150),\n",
    "                    batch_size= 5,\n",
    "                    class_mode='binary'\n",
    "                    \n",
    "                )"
   ]
  },
  {
   "cell_type": "code",
   "execution_count": 57,
   "metadata": {},
   "outputs": [
    {
     "name": "stdout",
     "output_type": "stream",
     "text": [
      "Found 160 images belonging to 2 classes.\n"
     ]
    }
   ],
   "source": [
    "# 테스트 데이터 셋을 이미지 증식 설정하는 부분 \n",
    "# 테스트 데이터 셋은 이미지 증식 안함 \n",
    "test_datagen = ImageDataGenerator(rescale=1./255)\n",
    "\n",
    "# 테스트 데이터 셋이 있는 폴더 위치 지정 \n",
    "test_generator = train_datagen.flow_from_directory(\n",
    "                    './data/train',\n",
    "                    target_size=(150,150),\n",
    "                    batch_size= 5,\n",
    "                    class_mode='binary'\n",
    "                )"
   ]
  },
  {
   "cell_type": "code",
   "execution_count": 58,
   "metadata": {},
   "outputs": [
    {
     "name": "stdout",
     "output_type": "stream",
     "text": [
      "Model: \"sequential_9\"\n",
      "_________________________________________________________________\n",
      " Layer (type)                Output Shape              Param #   \n",
      "=================================================================\n",
      " conv2d_12 (Conv2D)          (None, 148, 148, 32)      896       \n",
      "                                                                 \n",
      " activation_12 (Activation)  (None, 148, 148, 32)      0         \n",
      "                                                                 \n",
      " max_pooling2d_12 (MaxPoolin  (None, 74, 74, 32)       0         \n",
      " g2D)                                                            \n",
      "                                                                 \n",
      " conv2d_13 (Conv2D)          (None, 72, 72, 32)        9248      \n",
      "                                                                 \n",
      " activation_13 (Activation)  (None, 72, 72, 32)        0         \n",
      "                                                                 \n",
      " max_pooling2d_13 (MaxPoolin  (None, 36, 36, 32)       0         \n",
      " g2D)                                                            \n",
      "                                                                 \n",
      " conv2d_14 (Conv2D)          (None, 34, 34, 64)        18496     \n",
      "                                                                 \n",
      " activation_14 (Activation)  (None, 34, 34, 64)        0         \n",
      "                                                                 \n",
      " max_pooling2d_14 (MaxPoolin  (None, 17, 17, 64)       0         \n",
      " g2D)                                                            \n",
      "                                                                 \n",
      " flatten_7 (Flatten)         (None, 18496)             0         \n",
      "                                                                 \n",
      " dense_12 (Dense)            (None, 64)                1183808   \n",
      "                                                                 \n",
      " dropout_7 (Dropout)         (None, 64)                0         \n",
      "                                                                 \n",
      " dense_13 (Dense)            (None, 1)                 65        \n",
      "                                                                 \n",
      "=================================================================\n",
      "Total params: 1,212,513\n",
      "Trainable params: 1,212,513\n",
      "Non-trainable params: 0\n",
      "_________________________________________________________________\n"
     ]
    }
   ],
   "source": [
    "# 모델링 (CNN)\n",
    "\n",
    "model = Sequential()\n",
    "model.add(Conv2D(32,(3,3), input_shape=(150,150,3))) # Conv2D 레이어는 필터의 개수와 크기\n",
    "# 1 : 흑백 , 3: 컬러(R,G,B)\n",
    "model.add(Activation('relu'))\n",
    "model.add(MaxPool2D(pool_size=(2,2)))\n",
    "\n",
    "model.add(Conv2D(32,(3,3)))\n",
    "model.add(Activation('relu'))\n",
    "model.add(MaxPool2D(pool_size=(2,2)))\n",
    "\n",
    "model.add(Conv2D(64,(3,3)))\n",
    "model.add(Activation('relu'))\n",
    "model.add(MaxPool2D(pool_size=(2,2)))\n",
    "\n",
    "model.add(Flatten())\n",
    "model.add(Dense(64,activation='relu'))\n",
    "model.add(Dropout(0.5))\n",
    "model.add(Dense(1,activation='sigmoid'))\n",
    "\n",
    "model.summary()"
   ]
  },
  {
   "cell_type": "code",
   "execution_count": 59,
   "metadata": {},
   "outputs": [
    {
     "name": "stdout",
     "output_type": "stream",
     "text": [
      "Epoch 1/100\n",
      "32/32 [==============================] - 2s 46ms/step - loss: 0.6996 - accuracy: 0.5250 - val_loss: 0.6977 - val_accuracy: 0.3800\n",
      "Epoch 2/100\n",
      "32/32 [==============================] - 1s 44ms/step - loss: 0.6939 - accuracy: 0.5250 - val_loss: 0.6932 - val_accuracy: 0.5000\n",
      "Epoch 3/100\n",
      "32/32 [==============================] - 1s 41ms/step - loss: 0.6845 - accuracy: 0.5500 - val_loss: 0.6750 - val_accuracy: 0.5400\n",
      "Epoch 4/100\n",
      "32/32 [==============================] - 1s 43ms/step - loss: 0.6751 - accuracy: 0.5813 - val_loss: 0.6400 - val_accuracy: 0.7600\n",
      "Epoch 5/100\n",
      "32/32 [==============================] - 1s 41ms/step - loss: 0.6521 - accuracy: 0.6125 - val_loss: 0.6343 - val_accuracy: 0.7400\n",
      "Epoch 6/100\n",
      "32/32 [==============================] - 1s 44ms/step - loss: 0.6245 - accuracy: 0.6812 - val_loss: 0.6188 - val_accuracy: 0.6000\n",
      "Epoch 7/100\n",
      "32/32 [==============================] - 1s 42ms/step - loss: 0.6006 - accuracy: 0.7250 - val_loss: 0.5996 - val_accuracy: 0.7000\n",
      "Epoch 8/100\n",
      "32/32 [==============================] - 1s 40ms/step - loss: 0.6089 - accuracy: 0.7125 - val_loss: 0.5326 - val_accuracy: 0.8200\n",
      "Epoch 9/100\n",
      "32/32 [==============================] - 1s 43ms/step - loss: 0.5738 - accuracy: 0.7312 - val_loss: 0.4691 - val_accuracy: 0.8200\n",
      "Epoch 10/100\n",
      "32/32 [==============================] - 1s 44ms/step - loss: 0.4907 - accuracy: 0.8188 - val_loss: 0.3469 - val_accuracy: 0.9600\n",
      "Epoch 11/100\n",
      "32/32 [==============================] - 1s 42ms/step - loss: 0.4194 - accuracy: 0.8562 - val_loss: 0.3395 - val_accuracy: 0.8600\n",
      "Epoch 12/100\n",
      "32/32 [==============================] - 1s 45ms/step - loss: 0.3722 - accuracy: 0.8250 - val_loss: 0.2767 - val_accuracy: 0.9400\n",
      "Epoch 13/100\n",
      "32/32 [==============================] - 1s 42ms/step - loss: 0.3000 - accuracy: 0.8875 - val_loss: 0.2812 - val_accuracy: 0.9200\n",
      "Epoch 14/100\n",
      "32/32 [==============================] - 1s 42ms/step - loss: 0.3835 - accuracy: 0.7812 - val_loss: 0.3544 - val_accuracy: 0.8600\n",
      "Epoch 15/100\n",
      "32/32 [==============================] - 1s 43ms/step - loss: 0.2777 - accuracy: 0.9125 - val_loss: 0.1899 - val_accuracy: 0.9600\n",
      "Epoch 16/100\n",
      "32/32 [==============================] - 1s 42ms/step - loss: 0.2441 - accuracy: 0.9250 - val_loss: 0.4117 - val_accuracy: 0.7400\n",
      "Epoch 17/100\n",
      "32/32 [==============================] - 1s 44ms/step - loss: 0.3338 - accuracy: 0.8813 - val_loss: 0.2441 - val_accuracy: 0.9200\n",
      "Epoch 18/100\n",
      "32/32 [==============================] - 1s 42ms/step - loss: 0.2116 - accuracy: 0.9500 - val_loss: 0.1657 - val_accuracy: 0.9400\n",
      "Epoch 19/100\n",
      "32/32 [==============================] - 1s 44ms/step - loss: 0.1675 - accuracy: 0.9563 - val_loss: 0.1403 - val_accuracy: 0.9800\n",
      "Epoch 20/100\n",
      "32/32 [==============================] - 2s 46ms/step - loss: 0.2030 - accuracy: 0.9250 - val_loss: 0.1870 - val_accuracy: 0.9400\n",
      "Epoch 21/100\n",
      "32/32 [==============================] - 1s 42ms/step - loss: 0.1927 - accuracy: 0.9438 - val_loss: 0.0843 - val_accuracy: 1.0000\n",
      "Epoch 22/100\n",
      "32/32 [==============================] - 1s 45ms/step - loss: 0.1618 - accuracy: 0.9438 - val_loss: 0.0874 - val_accuracy: 0.9800\n",
      "Epoch 23/100\n",
      "32/32 [==============================] - 1s 42ms/step - loss: 0.1810 - accuracy: 0.9500 - val_loss: 0.1567 - val_accuracy: 0.9600\n",
      "Epoch 24/100\n",
      "32/32 [==============================] - 1s 44ms/step - loss: 0.1571 - accuracy: 0.9500 - val_loss: 0.1004 - val_accuracy: 0.9800\n",
      "Epoch 25/100\n",
      "32/32 [==============================] - 1s 43ms/step - loss: 0.1342 - accuracy: 0.9563 - val_loss: 0.2296 - val_accuracy: 0.8800\n",
      "Epoch 26/100\n",
      "32/32 [==============================] - 1s 44ms/step - loss: 0.1440 - accuracy: 0.9500 - val_loss: 0.0758 - val_accuracy: 1.0000\n",
      "Epoch 27/100\n",
      "32/32 [==============================] - 2s 47ms/step - loss: 0.0990 - accuracy: 0.9688 - val_loss: 0.0997 - val_accuracy: 0.9600\n",
      "Epoch 28/100\n",
      "32/32 [==============================] - 1s 46ms/step - loss: 0.0921 - accuracy: 0.9688 - val_loss: 0.1030 - val_accuracy: 0.9400\n",
      "Epoch 29/100\n",
      "32/32 [==============================] - 2s 47ms/step - loss: 0.1092 - accuracy: 0.9500 - val_loss: 0.0554 - val_accuracy: 1.0000\n",
      "Epoch 30/100\n",
      "32/32 [==============================] - 1s 45ms/step - loss: 0.1801 - accuracy: 0.9250 - val_loss: 0.0965 - val_accuracy: 0.9800\n",
      "Epoch 31/100\n",
      "32/32 [==============================] - 2s 46ms/step - loss: 0.1376 - accuracy: 0.9312 - val_loss: 0.0615 - val_accuracy: 0.9800\n",
      "Epoch 32/100\n",
      "32/32 [==============================] - 1s 46ms/step - loss: 0.1343 - accuracy: 0.9563 - val_loss: 0.2380 - val_accuracy: 0.8600\n",
      "Epoch 33/100\n",
      "32/32 [==============================] - 1s 45ms/step - loss: 0.1170 - accuracy: 0.9625 - val_loss: 0.0662 - val_accuracy: 0.9800\n",
      "Epoch 34/100\n",
      "32/32 [==============================] - 1s 44ms/step - loss: 0.0636 - accuracy: 0.9937 - val_loss: 0.0292 - val_accuracy: 1.0000\n",
      "Epoch 35/100\n",
      "32/32 [==============================] - 2s 47ms/step - loss: 0.0675 - accuracy: 0.9750 - val_loss: 0.0214 - val_accuracy: 1.0000\n",
      "Epoch 36/100\n",
      "32/32 [==============================] - 1s 45ms/step - loss: 0.0881 - accuracy: 0.9625 - val_loss: 0.0353 - val_accuracy: 1.0000\n",
      "Epoch 37/100\n",
      "32/32 [==============================] - 2s 47ms/step - loss: 0.0739 - accuracy: 0.9750 - val_loss: 0.0393 - val_accuracy: 1.0000\n",
      "Epoch 38/100\n",
      "32/32 [==============================] - 1s 44ms/step - loss: 0.0706 - accuracy: 0.9750 - val_loss: 0.0467 - val_accuracy: 0.9800\n",
      "Epoch 39/100\n",
      "32/32 [==============================] - 2s 47ms/step - loss: 0.0557 - accuracy: 0.9875 - val_loss: 0.0163 - val_accuracy: 1.0000\n",
      "Epoch 40/100\n",
      "32/32 [==============================] - 1s 45ms/step - loss: 0.0639 - accuracy: 0.9812 - val_loss: 0.0213 - val_accuracy: 1.0000\n",
      "Epoch 41/100\n",
      "32/32 [==============================] - 1s 45ms/step - loss: 0.1621 - accuracy: 0.9250 - val_loss: 0.0357 - val_accuracy: 1.0000\n",
      "Epoch 42/100\n",
      "32/32 [==============================] - 1s 47ms/step - loss: 0.0594 - accuracy: 0.9812 - val_loss: 0.0768 - val_accuracy: 0.9800\n",
      "Epoch 43/100\n",
      "32/32 [==============================] - 1s 46ms/step - loss: 0.0748 - accuracy: 0.9625 - val_loss: 0.0284 - val_accuracy: 1.0000\n",
      "Epoch 44/100\n",
      "32/32 [==============================] - 1s 44ms/step - loss: 0.0859 - accuracy: 0.9937 - val_loss: 0.0222 - val_accuracy: 1.0000\n"
     ]
    }
   ],
   "source": [
    "# 모델 실행\n",
    "\n",
    "model.compile(loss='binary_crossentropy',\n",
    "              optimizer=optimizers.Adam(learning_rate=0.0002),\n",
    "              metrics=['accuracy'])\n",
    "\n",
    "# 학습 조기 중단 \n",
    "early_stopping_callback = EarlyStopping(monitor='val_loss', patience=5) # 과적합 방지를 위해 꼭 사용하기\n",
    "\n",
    "# 모델 실행하기\n",
    "history = model.fit(\n",
    "        train_generator,\n",
    "        epochs=100,\n",
    "        validation_data = test_generator,\n",
    "        validation_steps = 10,\n",
    "        callbacks = [early_stopping_callback]\n",
    ")"
   ]
  },
  {
   "cell_type": "code",
   "execution_count": 60,
   "metadata": {},
   "outputs": [
    {
     "data": {
      "image/png": "[encoded data removed]",
      "text/plain": [
       "<Figure size 640x480 with 1 Axes>"
      ]
     },
     "metadata": {},
     "output_type": "display_data"
    }
   ],
   "source": [
    "# 검증셋과 학습셋의 오차 저장 \n",
    "\n",
    "y_vloss = history.history['val_loss']\n",
    "y_loss = history.history['loss']\n",
    "\n",
    "# 그래프로 표현 \n",
    "x_len = np.arange(len(y_loss))\n",
    "plt.plot(x_len, y_vloss, marker='.', c='red', label='Testset_loss')\n",
    "plt.plot(x_len, y_loss, marker='.', c='blue', label='Trainset_loss')\n",
    "\n",
    "plt.legend(loc='best')\n",
    "plt.grid()\n",
    "plt.xlabel('epoch')\n",
    "plt.ylabel('loss')\n",
    "plt.show()"
   ]
  },
  {
   "cell_type": "code",
   "execution_count": 61,
   "metadata": {},
   "outputs": [],
   "source": [
    "# 전이 학습(Transfer Learning)\n",
    "\n",
    "from tensorflow.keras.applications import VGG16"
   ]
  },
  {
   "cell_type": "code",
   "execution_count": 62,
   "metadata": {},
   "outputs": [
    {
     "name": "stdout",
     "output_type": "stream",
     "text": [
      "Model: \"vgg16\"\n",
      "_________________________________________________________________\n",
      " Layer (type)                Output Shape              Param #   \n",
      "=================================================================\n",
      " input_3 (InputLayer)        [(None, 150, 150, 3)]     0         \n",
      "                                                                 \n",
      " block1_conv1 (Conv2D)       (None, 150, 150, 64)      1792      \n",
      "                                                                 \n",
      " block1_conv2 (Conv2D)       (None, 150, 150, 64)      36928     \n",
      "                                                                 \n",
      " block1_pool (MaxPooling2D)  (None, 75, 75, 64)        0         \n",
      "                                                                 \n",
      " block2_conv1 (Conv2D)       (None, 75, 75, 128)       73856     \n",
      "                                                                 \n",
      " block2_conv2 (Conv2D)       (None, 75, 75, 128)       147584    \n",
      "                                                                 \n",
      " block2_pool (MaxPooling2D)  (None, 37, 37, 128)       0         \n",
      "                                                                 \n",
      " block3_conv1 (Conv2D)       (None, 37, 37, 256)       295168    \n",
      "                                                                 \n",
      " block3_conv2 (Conv2D)       (None, 37, 37, 256)       590080    \n",
      "                                                                 \n",
      " block3_conv3 (Conv2D)       (None, 37, 37, 256)       590080    \n",
      "                                                                 \n",
      " block3_pool (MaxPooling2D)  (None, 18, 18, 256)       0         \n",
      "                                                                 \n",
      " block4_conv1 (Conv2D)       (None, 18, 18, 512)       1180160   \n",
      "                                                                 \n",
      " block4_conv2 (Conv2D)       (None, 18, 18, 512)       2359808   \n",
      "                                                                 \n",
      " block4_conv3 (Conv2D)       (None, 18, 18, 512)       2359808   \n",
      "                                                                 \n",
      " block4_pool (MaxPooling2D)  (None, 9, 9, 512)         0         \n",
      "                                                                 \n",
      " block5_conv1 (Conv2D)       (None, 9, 9, 512)         2359808   \n",
      "                                                                 \n",
      " block5_conv2 (Conv2D)       (None, 9, 9, 512)         2359808   \n",
      "                                                                 \n",
      " block5_conv3 (Conv2D)       (None, 9, 9, 512)         2359808   \n",
      "                                                                 \n",
      " block5_pool (MaxPooling2D)  (None, 4, 4, 512)         0         \n",
      "                                                                 \n",
      "=================================================================\n",
      "Total params: 14,714,688\n",
      "Trainable params: 0\n",
      "Non-trainable params: 14,714,688\n",
      "_________________________________________________________________\n"
     ]
    }
   ],
   "source": [
    "# 모델링 \n",
    "\n",
    "# VGG16 불러오김\n",
    "\n",
    "transfer_model = VGG16(weights= 'imagenet', include_top=False, input_shape=(150,150,3))\n",
    "transfer_model.trainable = False \n",
    "transfer_model.summary()"
   ]
  },
  {
   "cell_type": "code",
   "execution_count": 63,
   "metadata": {},
   "outputs": [
    {
     "name": "stdout",
     "output_type": "stream",
     "text": [
      "Model: \"sequential_10\"\n",
      "_________________________________________________________________\n",
      " Layer (type)                Output Shape              Param #   \n",
      "=================================================================\n",
      " vgg16 (Functional)          (None, 4, 4, 512)         14714688  \n",
      "                                                                 \n",
      " flatten_8 (Flatten)         (None, 8192)              0         \n",
      "                                                                 \n",
      " dense_14 (Dense)            (None, 64)                524352    \n",
      "                                                                 \n",
      " dropout_8 (Dropout)         (None, 64)                0         \n",
      "                                                                 \n",
      " dense_15 (Dense)            (None, 1)                 65        \n",
      "                                                                 \n",
      "=================================================================\n",
      "Total params: 15,239,105\n",
      "Trainable params: 524,417\n",
      "Non-trainable params: 14,714,688\n",
      "_________________________________________________________________\n"
     ]
    }
   ],
   "source": [
    "finetune_model = models.Sequential()\n",
    "finetune_model.add(transfer_model)\n",
    "finetune_model.add(Flatten())\n",
    "finetune_model.add(Dense(64, activation='relu'))\n",
    "finetune_model.add(Dropout(0.5))\n",
    "finetune_model.add(Dense(1, activation='sigmoid'))\n",
    "\n",
    "finetune_model.summary()"
   ]
  },
  {
   "cell_type": "code",
   "execution_count": 64,
   "metadata": {},
   "outputs": [
    {
     "name": "stdout",
     "output_type": "stream",
     "text": [
      "Epoch 1/100\n",
      "32/32 [==============================] - 6s 183ms/step - loss: 0.7338 - accuracy: 0.5688 - val_loss: 0.5087 - val_accuracy: 0.8000\n",
      "Epoch 2/100\n",
      "32/32 [==============================] - 6s 177ms/step - loss: 0.5304 - accuracy: 0.7625 - val_loss: 0.4717 - val_accuracy: 0.7800\n",
      "Epoch 3/100\n",
      "32/32 [==============================] - 6s 178ms/step - loss: 0.4325 - accuracy: 0.7937 - val_loss: 0.4004 - val_accuracy: 0.9200\n",
      "Epoch 4/100\n",
      "32/32 [==============================] - 6s 179ms/step - loss: 0.3663 - accuracy: 0.8750 - val_loss: 0.3291 - val_accuracy: 0.9000\n",
      "Epoch 5/100\n",
      "32/32 [==============================] - 6s 179ms/step - loss: 0.3311 - accuracy: 0.8813 - val_loss: 0.2746 - val_accuracy: 0.9200\n",
      "Epoch 6/100\n",
      "32/32 [==============================] - 6s 181ms/step - loss: 0.2996 - accuracy: 0.9125 - val_loss: 0.2303 - val_accuracy: 0.9800\n",
      "Epoch 7/100\n",
      "32/32 [==============================] - 6s 179ms/step - loss: 0.2783 - accuracy: 0.8938 - val_loss: 0.1643 - val_accuracy: 0.9800\n",
      "Epoch 8/100\n",
      "32/32 [==============================] - 6s 179ms/step - loss: 0.2590 - accuracy: 0.9125 - val_loss: 0.1512 - val_accuracy: 0.9800\n",
      "Epoch 9/100\n",
      "32/32 [==============================] - 6s 178ms/step - loss: 0.2439 - accuracy: 0.9000 - val_loss: 0.1326 - val_accuracy: 1.0000\n",
      "Epoch 10/100\n",
      "32/32 [==============================] - 6s 178ms/step - loss: 0.2012 - accuracy: 0.9438 - val_loss: 0.1556 - val_accuracy: 0.9600\n",
      "Epoch 11/100\n",
      "32/32 [==============================] - 6s 179ms/step - loss: 0.1949 - accuracy: 0.9438 - val_loss: 0.1098 - val_accuracy: 0.9800\n",
      "Epoch 12/100\n",
      "32/32 [==============================] - 6s 178ms/step - loss: 0.1699 - accuracy: 0.9625 - val_loss: 0.1327 - val_accuracy: 1.0000\n",
      "Epoch 13/100\n",
      "32/32 [==============================] - 6s 179ms/step - loss: 0.1735 - accuracy: 0.9312 - val_loss: 0.1837 - val_accuracy: 0.9000\n",
      "Epoch 14/100\n",
      "32/32 [==============================] - 6s 178ms/step - loss: 0.1580 - accuracy: 0.9563 - val_loss: 0.1495 - val_accuracy: 0.9600\n",
      "Epoch 15/100\n",
      "32/32 [==============================] - 6s 177ms/step - loss: 0.1631 - accuracy: 0.9312 - val_loss: 0.1285 - val_accuracy: 0.9800\n",
      "Epoch 16/100\n",
      "32/32 [==============================] - 6s 178ms/step - loss: 0.1424 - accuracy: 0.9625 - val_loss: 0.1714 - val_accuracy: 0.9200\n"
     ]
    }
   ],
   "source": [
    "# 모델 실행 \n",
    "finetune_model.compile(loss='binary_crossentropy', \n",
    "              optimizer=optimizers.Adam(learning_rate=0.0002),\n",
    "              metrics=['accuracy'])\n",
    "\n",
    "# 학습 조기 중단 \n",
    "early_stopping_callback = EarlyStopping(monitor='val_loss', patience=5)\n",
    "\n",
    "# 모델 실행 \n",
    "history = finetune_model.fit(\n",
    "          train_generator, \n",
    "          epochs=100,\n",
    "          validation_data = test_generator,\n",
    "          validation_steps = 10, \n",
    "          callbacks=[early_stopping_callback]\n",
    "      )"
   ]
  },
  {
   "cell_type": "code",
   "execution_count": 65,
   "metadata": {},
   "outputs": [
    {
     "data": {
      "image/png": "[encoded data removed]",
      "text/plain": [
       "<Figure size 640x480 with 1 Axes>"
      ]
     },
     "metadata": {},
     "output_type": "display_data"
    }
   ],
   "source": [
    "# 검증셋과 학습셋의 오차 저장 \n",
    "\n",
    "y_vloss = history.history['val_loss']\n",
    "y_loss = history.history['loss']\n",
    "\n",
    "# 그래프로 표현 \n",
    "x_len = np.arange(len(y_loss))\n",
    "plt.plot(x_len, y_vloss, marker='.', c='red', label='Testset_loss')\n",
    "plt.plot(x_len, y_loss, marker='.', c='blue', label='Trainset_loss')\n",
    "\n",
    "plt.legend(loc='best')\n",
    "plt.grid()\n",
    "plt.xlabel('epoch')\n",
    "plt.ylabel('loss')\n",
    "plt.show()"
   ]
  }
 ],
 "metadata": {
  "kernelspec": {
   "display_name": "base",
   "language": "python",
   "name": "python3"
  },
  "language_info": {
   "codemirror_mode": {
    "name": "ipython",
    "version": 3
   },
   "file_extension": ".py",
   "mimetype": "text/x-python",
   "name": "python",
   "nbconvert_exporter": "python",
   "pygments_lexer": "ipython3",
   "version": "3.9.13"
  },
  "orig_nbformat": 4
 },
 "nbformat": 4,
 "nbformat_minor": 2
}
