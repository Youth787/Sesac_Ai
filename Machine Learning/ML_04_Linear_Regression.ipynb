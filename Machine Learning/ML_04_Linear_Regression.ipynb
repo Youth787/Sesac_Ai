{
 "cells": [
  {
   "cell_type": "code",
   "execution_count": 2,
   "metadata": {},
   "outputs": [],
   "source": [
    "# 단순선형회귀분석 \n",
    "\n",
    "# 필요한 라이브러리 불러오기 \n",
    "\n",
    "import numpy as np \n",
    "import pandas as pd \n",
    "import matplotlib.pyplot as plt \n",
    "import os"
   ]
  },
  {
   "cell_type": "code",
   "execution_count": 3,
   "metadata": {},
   "outputs": [],
   "source": [
    "# 선형회귀 관련 sklearn 라이브러리 불러오기 \n",
    "\n",
    "from sklearn import datasets, linear_model \n",
    "from sklearn.metrics import mean_squared_error, r2_score \n",
    "\n",
    "# 선형회귀 관련 statsmodels 라이브러리 \n",
    "import statsmodels.api as sm "
   ]
  },
  {
   "cell_type": "code",
   "execution_count": 4,
   "metadata": {},
   "outputs": [
    {
     "data": {
      "text/plain": [
       "array([[0],\n",
       "       [1],\n",
       "       [2]])"
      ]
     },
     "execution_count": 4,
     "metadata": {},
     "output_type": "execute_result"
    }
   ],
   "source": [
    "# 간단한 예제 - 몸풀기 \n",
    "\n",
    "# data \n",
    "np.array([[0],[1],[2]])"
   ]
  },
  {
   "cell_type": "code",
   "execution_count": 5,
   "metadata": {},
   "outputs": [],
   "source": [
    "X = np.array([[0],[1],[2]])"
   ]
  },
  {
   "cell_type": "code",
   "execution_count": 6,
   "metadata": {},
   "outputs": [
    {
     "data": {
      "text/plain": [
       "array([0. , 1.2, 1.6])"
      ]
     },
     "execution_count": 6,
     "metadata": {},
     "output_type": "execute_result"
    }
   ],
   "source": [
    "np.array([0,1.2,1.6])"
   ]
  },
  {
   "cell_type": "code",
   "execution_count": 7,
   "metadata": {},
   "outputs": [],
   "source": [
    "y = np.array([0,1.2,1.6])"
   ]
  },
  {
   "cell_type": "code",
   "execution_count": 8,
   "metadata": {},
   "outputs": [],
   "source": [
    "# 선형회귀 객체 생성 \n",
    "\n",
    "reg = linear_model.LinearRegression()"
   ]
  },
  {
   "cell_type": "code",
   "execution_count": 9,
   "metadata": {},
   "outputs": [
    {
     "data": {
      "text/plain": [
       "LinearRegression()"
      ]
     },
     "execution_count": 9,
     "metadata": {},
     "output_type": "execute_result"
    }
   ],
   "source": [
    "# training  >> fit : 모델에 적합하게 데이터 정렬\n",
    "\n",
    "reg.fit(X,y)"
   ]
  },
  {
   "cell_type": "code",
   "execution_count": 10,
   "metadata": {},
   "outputs": [
    {
     "data": {
      "text/plain": [
       "array([0.13333333, 0.93333333, 1.73333333])"
      ]
     },
     "execution_count": 10,
     "metadata": {},
     "output_type": "execute_result"
    }
   ],
   "source": [
    "# traing data로 예측 \n",
    "\n",
    "pred_train = reg.predict(X)\n",
    "pred_train"
   ]
  },
  {
   "cell_type": "code",
   "execution_count": 11,
   "metadata": {},
   "outputs": [
    {
     "data": {
      "text/plain": [
       "array([0. , 1.2, 1.6])"
      ]
     },
     "execution_count": 11,
     "metadata": {},
     "output_type": "execute_result"
    }
   ],
   "source": [
    "y"
   ]
  },
  {
   "cell_type": "code",
   "execution_count": 12,
   "metadata": {},
   "outputs": [
    {
     "data": {
      "text/plain": [
       "array([1.33333333])"
      ]
     },
     "execution_count": 12,
     "metadata": {},
     "output_type": "execute_result"
    }
   ],
   "source": [
    "# test data로 예측 \n",
    "\n",
    "pred_test = reg.predict([[1.5]])\n",
    "pred_test"
   ]
  },
  {
   "cell_type": "code",
   "execution_count": 13,
   "metadata": {},
   "outputs": [
    {
     "data": {
      "image/png": "[encoded data removed]",
      "text/plain": [
       "<Figure size 640x480 with 1 Axes>"
      ]
     },
     "metadata": {},
     "output_type": "display_data"
    }
   ],
   "source": [
    "# plot outputs \n",
    "\n",
    "plt.scatter(X,y, color='black')\n",
    "plt.scatter(1.5, pred_test, color='red') # 예측값\n",
    "plt.plot(X, pred_train, color='blue', linewidth=3)\n",
    "\n",
    "plt.xlabel('X')\n",
    "plt.ylabel('y')\n",
    "\n",
    "plt.grid() \n",
    "plt.show()"
   ]
  },
  {
   "cell_type": "code",
   "execution_count": 14,
   "metadata": {},
   "outputs": [
    {
     "data": {
      "text/plain": [
       "array([1.33333333])"
      ]
     },
     "execution_count": 14,
     "metadata": {},
     "output_type": "execute_result"
    }
   ],
   "source": [
    "# test data 예측값 \n",
    "\n",
    "pred_test"
   ]
  },
  {
   "cell_type": "code",
   "execution_count": 15,
   "metadata": {},
   "outputs": [
    {
     "data": {
      "text/plain": [
       "array([0.8])"
      ]
     },
     "execution_count": 15,
     "metadata": {},
     "output_type": "execute_result"
    }
   ],
   "source": [
    "# coefficient (회귀계수, 기울기: weight)\n",
    "reg.coef_"
   ]
  },
  {
   "cell_type": "code",
   "execution_count": 16,
   "metadata": {},
   "outputs": [],
   "source": [
    "path ='./data/Advertising.csv'\n",
    "\n",
    "ad = pd.read_csv(path, index_col=0)"
   ]
  },
  {
   "cell_type": "code",
   "execution_count": 17,
   "metadata": {},
   "outputs": [
    {
     "data": {
      "text/html": [
       "<div>\n",
       "<style scoped>\n",
       "    .dataframe tbody tr th:only-of-type {\n",
       "        vertical-align: middle;\n",
       "    }\n",
       "\n",
       "    .dataframe tbody tr th {\n",
       "        vertical-align: top;\n",
       "    }\n",
       "\n",
       "    .dataframe thead th {\n",
       "        text-align: right;\n",
       "    }\n",
       "</style>\n",
       "<table border=\"1\" class=\"dataframe\">\n",
       "  <thead>\n",
       "    <tr style=\"text-align: right;\">\n",
       "      <th></th>\n",
       "      <th>Unnamed: 0</th>\n",
       "      <th>TV</th>\n",
       "      <th>Radio</th>\n",
       "      <th>Newspaper</th>\n",
       "      <th>Sales</th>\n",
       "    </tr>\n",
       "  </thead>\n",
       "  <tbody>\n",
       "    <tr>\n",
       "      <th>0</th>\n",
       "      <td>1</td>\n",
       "      <td>230.1</td>\n",
       "      <td>37.8</td>\n",
       "      <td>69.2</td>\n",
       "      <td>22.1</td>\n",
       "    </tr>\n",
       "    <tr>\n",
       "      <th>1</th>\n",
       "      <td>2</td>\n",
       "      <td>44.5</td>\n",
       "      <td>39.3</td>\n",
       "      <td>45.1</td>\n",
       "      <td>10.4</td>\n",
       "    </tr>\n",
       "    <tr>\n",
       "      <th>2</th>\n",
       "      <td>3</td>\n",
       "      <td>17.2</td>\n",
       "      <td>45.9</td>\n",
       "      <td>69.3</td>\n",
       "      <td>9.3</td>\n",
       "    </tr>\n",
       "    <tr>\n",
       "      <th>3</th>\n",
       "      <td>4</td>\n",
       "      <td>151.5</td>\n",
       "      <td>41.3</td>\n",
       "      <td>58.5</td>\n",
       "      <td>18.5</td>\n",
       "    </tr>\n",
       "    <tr>\n",
       "      <th>4</th>\n",
       "      <td>5</td>\n",
       "      <td>180.8</td>\n",
       "      <td>10.8</td>\n",
       "      <td>58.4</td>\n",
       "      <td>12.9</td>\n",
       "    </tr>\n",
       "    <tr>\n",
       "      <th>5</th>\n",
       "      <td>6</td>\n",
       "      <td>8.7</td>\n",
       "      <td>48.9</td>\n",
       "      <td>75.0</td>\n",
       "      <td>7.2</td>\n",
       "    </tr>\n",
       "    <tr>\n",
       "      <th>6</th>\n",
       "      <td>7</td>\n",
       "      <td>57.5</td>\n",
       "      <td>32.8</td>\n",
       "      <td>23.5</td>\n",
       "      <td>11.8</td>\n",
       "    </tr>\n",
       "    <tr>\n",
       "      <th>7</th>\n",
       "      <td>8</td>\n",
       "      <td>120.2</td>\n",
       "      <td>19.6</td>\n",
       "      <td>11.6</td>\n",
       "      <td>13.2</td>\n",
       "    </tr>\n",
       "    <tr>\n",
       "      <th>8</th>\n",
       "      <td>9</td>\n",
       "      <td>8.6</td>\n",
       "      <td>2.1</td>\n",
       "      <td>1.0</td>\n",
       "      <td>4.8</td>\n",
       "    </tr>\n",
       "    <tr>\n",
       "      <th>9</th>\n",
       "      <td>10</td>\n",
       "      <td>199.8</td>\n",
       "      <td>2.6</td>\n",
       "      <td>21.2</td>\n",
       "      <td>10.6</td>\n",
       "    </tr>\n",
       "  </tbody>\n",
       "</table>\n",
       "</div>"
      ],
      "text/plain": [
       "   Unnamed: 0     TV  Radio  Newspaper  Sales\n",
       "0           1  230.1   37.8       69.2   22.1\n",
       "1           2   44.5   39.3       45.1   10.4\n",
       "2           3   17.2   45.9       69.3    9.3\n",
       "3           4  151.5   41.3       58.5   18.5\n",
       "4           5  180.8   10.8       58.4   12.9\n",
       "5           6    8.7   48.9       75.0    7.2\n",
       "6           7   57.5   32.8       23.5   11.8\n",
       "7           8  120.2   19.6       11.6   13.2\n",
       "8           9    8.6    2.1        1.0    4.8\n",
       "9          10  199.8    2.6       21.2   10.6"
      ]
     },
     "execution_count": 17,
     "metadata": {},
     "output_type": "execute_result"
    }
   ],
   "source": [
    "ad[:10]"
   ]
  },
  {
   "cell_type": "code",
   "execution_count": 18,
   "metadata": {},
   "outputs": [],
   "source": [
    "# advertising data 활용, 선형회귀 분석 \n",
    "\n",
    "# train data / test data 분리 >> 과적합 방지 \n",
    "\n",
    "train = ad[:-20]\n",
    "test = ad[-20:]"
   ]
  },
  {
   "cell_type": "code",
   "execution_count": 19,
   "metadata": {},
   "outputs": [
    {
     "data": {
      "text/plain": [
       "Index(['Unnamed: 0', 'TV', 'Radio', 'Newspaper', 'Sales'], dtype='object')"
      ]
     },
     "execution_count": 19,
     "metadata": {},
     "output_type": "execute_result"
    }
   ],
   "source": [
    "# train data의 feature와 response 분리 \n",
    "\n",
    "ad.columns"
   ]
  },
  {
   "cell_type": "code",
   "execution_count": 20,
   "metadata": {},
   "outputs": [],
   "source": [
    "train_X = train[['TV', 'Radio', 'Newspaper']]\n",
    "train_y = train[['Sales']]"
   ]
  },
  {
   "cell_type": "code",
   "execution_count": 21,
   "metadata": {},
   "outputs": [],
   "source": [
    "# test data의 feature와 response 분리 \n",
    "\n",
    "test_X = test[['TV', 'Radio', 'Newspaper']]\n",
    "test_y = test[['Sales']]"
   ]
  },
  {
   "cell_type": "code",
   "execution_count": 22,
   "metadata": {},
   "outputs": [],
   "source": [
    "# 선형회귀 객체 생성 \n",
    "\n",
    "regr = linear_model.LinearRegression()"
   ]
  },
  {
   "cell_type": "code",
   "execution_count": 23,
   "metadata": {},
   "outputs": [
    {
     "data": {
      "text/plain": [
       "LinearRegression()"
      ]
     },
     "execution_count": 23,
     "metadata": {},
     "output_type": "execute_result"
    }
   ],
   "source": [
    "# train data 활용 적합(fit) >> 반드시 train data 활용 \n",
    "\n",
    "regr.fit(train_X[[\"TV\"]], train_y) # train data 중 TV 만 사용 "
   ]
  },
  {
   "cell_type": "code",
   "execution_count": 24,
   "metadata": {},
   "outputs": [
    {
     "data": {
      "text/plain": [
       "array([[17.95508512],\n",
       "       [ 9.25168867],\n",
       "       [ 7.97150159],\n",
       "       [14.26927176],\n",
       "       [15.64324544],\n",
       "       [ 7.57290854],\n",
       "       [ 9.86130157],\n",
       "       [12.80151147],\n",
       "       [ 7.56821921],\n",
       "       [16.53421814],\n",
       "       [10.26458395],\n",
       "       [17.23292831],\n",
       "       [ 8.28099737],\n",
       "       [11.73703357],\n",
       "       [16.73585933],\n",
       "       [16.32788762],\n",
       "       [10.34430256],\n",
       "       [20.36071141],\n",
       "       [10.40995318],\n",
       "       [14.0723199 ],\n",
       "       [17.40643352],\n",
       "       [18.29740621],\n",
       "       [ 7.78392839],\n",
       "       [17.87067718],\n",
       "       [10.08638941],\n",
       "       [19.49318536],\n",
       "       [13.86598938],\n",
       "       [18.42401812],\n",
       "       [18.83198983],\n",
       "       [10.4756038 ],\n",
       "       [20.89998435],\n",
       "       [12.45919038],\n",
       "       [11.72296558],\n",
       "       [19.61979727],\n",
       "       [11.65262563],\n",
       "       [20.79681909],\n",
       "       [19.68075856],\n",
       "       [10.66786633],\n",
       "       [ 9.18603805],\n",
       "       [17.85660919],\n",
       "       [16.66083005],\n",
       "       [15.4650509 ],\n",
       "       [20.93280966],\n",
       "       [16.86716057],\n",
       "       [ 8.34195866],\n",
       "       [15.37595363],\n",
       "       [11.37126583],\n",
       "       [18.41463946],\n",
       "       [17.81909455],\n",
       "       [10.30209859],\n",
       "       [16.53421814],\n",
       "       [11.87302414],\n",
       "       [17.31264692],\n",
       "       [15.72765338],\n",
       "       [19.4838067 ],\n",
       "       [16.49201417],\n",
       "       [ 7.50725792],\n",
       "       [13.55180427],\n",
       "       [17.05004444],\n",
       "       [17.04535511],\n",
       "       [ 9.67372837],\n",
       "       [19.41815608],\n",
       "       [18.38650348],\n",
       "       [11.98087872],\n",
       "       [13.31264844],\n",
       "       [10.40057452],\n",
       "       [ 8.64207578],\n",
       "       [13.6971735 ],\n",
       "       [18.29740621],\n",
       "       [17.33140424],\n",
       "       [16.50139283],\n",
       "       [12.31382115],\n",
       "       [ 8.42167727],\n",
       "       [13.23292983],\n",
       "       [17.17196702],\n",
       "       [ 7.9574336 ],\n",
       "       [ 8.45450258],\n",
       "       [12.81557946],\n",
       "       [ 7.41816065],\n",
       "       [12.60455961],\n",
       "       [10.74758494],\n",
       "       [18.40995013],\n",
       "       [10.69600231],\n",
       "       [10.37243854],\n",
       "       [17.17665635],\n",
       "       [16.22472236],\n",
       "       [10.74289561],\n",
       "       [12.35602512],\n",
       "       [11.30561521],\n",
       "       [12.31382115],\n",
       "       [13.462707  ],\n",
       "       [ 8.50608521],\n",
       "       [17.37360821],\n",
       "       [18.93046576],\n",
       "       [12.20127723],\n",
       "       [14.82261269],\n",
       "       [16.43105288],\n",
       "       [15.83550797],\n",
       "       [20.74992579],\n",
       "       [13.50491097],\n",
       "       [17.59400672],\n",
       "       [21.0641109 ],\n",
       "       [20.30443945],\n",
       "       [15.97618787],\n",
       "       [18.33492085],\n",
       "       [13.63152288],\n",
       "       [ 8.33726933],\n",
       "       [11.40409114],\n",
       "       [ 7.77923906],\n",
       "       [19.14148561],\n",
       "       [17.75344393],\n",
       "       [18.4990474 ],\n",
       "       [15.40408961],\n",
       "       [16.99377248],\n",
       "       [10.83199288],\n",
       "       [10.68662365],\n",
       "       [13.69248417],\n",
       "       [10.74758494],\n",
       "       [13.05942462],\n",
       "       [ 8.07466685],\n",
       "       [13.7909601 ],\n",
       "       [ 8.04653087],\n",
       "       [17.669036  ],\n",
       "       [12.93750204],\n",
       "       [17.92694914],\n",
       "       [11.25403258],\n",
       "       [ 7.53070457],\n",
       "       [10.92577948],\n",
       "       [17.49553079],\n",
       "       [ 9.9597775 ],\n",
       "       [ 7.19776214],\n",
       "       [19.60103995],\n",
       "       [ 7.55884055],\n",
       "       [17.47208414],\n",
       "       [ 8.8952996 ],\n",
       "       [ 9.42988321],\n",
       "       [ 8.36540531],\n",
       "       [19.999633  ],\n",
       "       [ 9.18134872],\n",
       "       [15.83550797],\n",
       "       [10.60690504],\n",
       "       [16.24816901],\n",
       "       [17.50490945],\n",
       "       [12.06997599],\n",
       "       [11.67607228],\n",
       "       [13.7440668 ],\n",
       "       [18.42401812],\n",
       "       [18.56938735],\n",
       "       [ 8.94688223],\n",
       "       [ 9.26106733],\n",
       "       [20.3278861 ],\n",
       "       [12.83902611],\n",
       "       [16.43105288],\n",
       "       [15.19775909],\n",
       "       [15.97149854],\n",
       "       [ 7.35719936],\n",
       "       [11.56821769],\n",
       "       [14.18955315],\n",
       "       [ 7.71358844],\n",
       "       [13.34078442],\n",
       "       [15.25403105],\n",
       "       [11.18369263],\n",
       "       [15.99963452],\n",
       "       [14.83199135],\n",
       "       [12.66083157],\n",
       "       [18.16141564],\n",
       "       [ 8.0043269 ],\n",
       "       [16.86247124],\n",
       "       [17.26575362],\n",
       "       [20.49670198],\n",
       "       [ 9.50960182],\n",
       "       [14.87888465],\n",
       "       [ 8.08404551],\n",
       "       [15.06176852],\n",
       "       [17.59400672],\n",
       "       [20.14969156],\n",
       "       [18.81323251],\n",
       "       [15.14617646],\n",
       "       [20.1403129 ],\n",
       "       [14.93046728]])"
      ]
     },
     "execution_count": 24,
     "metadata": {},
     "output_type": "execute_result"
    }
   ],
   "source": [
    "# train data 활용 예측 \n",
    "train_y_pred = regr.predict(train_X[[\"TV\"]])\n",
    "train_y_pred"
   ]
  },
  {
   "cell_type": "code",
   "execution_count": 25,
   "metadata": {},
   "outputs": [
    {
     "data": {
      "text/plain": [
       "array([[14.50842759],\n",
       "       [17.41112285],\n",
       "       [ 9.80034028],\n",
       "       [20.65144986],\n",
       "       [19.06645633],\n",
       "       [16.7780633 ],\n",
       "       [13.70655216],\n",
       "       [16.12624643],\n",
       "       [20.57642058],\n",
       "       [ 8.04184154],\n",
       "       [ 9.01722218],\n",
       "       [10.70538097],\n",
       "       [ 7.97150159],\n",
       "       [14.98673924],\n",
       "       [14.18486382],\n",
       "       [ 8.95626089],\n",
       "       [11.58228568],\n",
       "       [15.4650509 ],\n",
       "       [20.46387667],\n",
       "       [18.04887172]])"
      ]
     },
     "execution_count": 25,
     "metadata": {},
     "output_type": "execute_result"
    }
   ],
   "source": [
    "# test data 활용 예측 \n",
    "\n",
    "test_y_pred = regr.predict(test_X[['TV']])\n",
    "test_y_pred"
   ]
  },
  {
   "cell_type": "code",
   "execution_count": 26,
   "metadata": {},
   "outputs": [
    {
     "name": "stdout",
     "output_type": "stream",
     "text": [
      "Coefficients:  [[0.0468933]]\n",
      "\n",
      "Train data MSE: 10.316 \n",
      "\n",
      "Test data MSE: 12.324 \n",
      "\n",
      "train data_R^2: 0.607\n",
      "\n",
      "test data_R^2: 0.642\n"
     ]
    }
   ],
   "source": [
    "# 회귀계수(기울기) coefficients\n",
    "\n",
    "print(\"Coefficients: \", regr.coef_)\n",
    "print()\n",
    "\n",
    "# train data의 MSE \n",
    "print(\"Train data MSE: %.3f \" % mean_squared_error(train_y, train_y_pred))\n",
    "print()\n",
    "# test data의 MSE\n",
    "\n",
    "print(\"Test data MSE: %.3f \" % mean_squared_error(test_y, test_y_pred))\n",
    "print()\n",
    "\n",
    "# train data의 r_square\n",
    "print(\"train data_R^2: %.3f\"% r2_score(train_y, train_y_pred))\n",
    "print()\n",
    "# test data의 r_square\n",
    "print(\"test data_R^2: %.3f\"% r2_score(test_y, test_y_pred))"
   ]
  },
  {
   "cell_type": "code",
   "execution_count": 27,
   "metadata": {},
   "outputs": [],
   "source": [
    "# statsmodels 선형회귀 분석 \n",
    "\n",
    "# statsmodels 사용을 위위한 X0 feature(intercept) 추가 \n",
    "# statsmodles의  OLS 함수 : 데이터 내에 intercept 해당하는 변수 필요 "
   ]
  },
  {
   "cell_type": "code",
   "execution_count": 28,
   "metadata": {},
   "outputs": [
    {
     "name": "stderr",
     "output_type": "stream",
     "text": [
      "/var/folders/xq/t5nlwtvx1qd5q2ny8rlxn70h0000gn/T/ipykernel_12588/1099202473.py:2: SettingWithCopyWarning: \n",
      "A value is trying to be set on a copy of a slice from a DataFrame.\n",
      "Try using .loc[row_indexer,col_indexer] = value instead\n",
      "\n",
      "See the caveats in the documentation: https://pandas.pydata.org/pandas-docs/stable/user_guide/indexing.html#returning-a-view-versus-a-copy\n",
      "  sm_train_X['X0'] = 1\n",
      "/var/folders/xq/t5nlwtvx1qd5q2ny8rlxn70h0000gn/T/ipykernel_12588/1099202473.py:5: SettingWithCopyWarning: \n",
      "A value is trying to be set on a copy of a slice from a DataFrame.\n",
      "Try using .loc[row_indexer,col_indexer] = value instead\n",
      "\n",
      "See the caveats in the documentation: https://pandas.pydata.org/pandas-docs/stable/user_guide/indexing.html#returning-a-view-versus-a-copy\n",
      "  sm_test_X['X0'] = 1\n"
     ]
    }
   ],
   "source": [
    "sm_train_X = train_X\n",
    "sm_train_X['X0'] = 1\n",
    "\n",
    "sm_test_X = test_X\n",
    "sm_test_X['X0'] = 1"
   ]
  },
  {
   "cell_type": "code",
   "execution_count": 29,
   "metadata": {},
   "outputs": [
    {
     "data": {
      "text/plain": [
       "(        TV  Radio  Newspaper  X0\n",
       " 0    230.1   37.8       69.2   1\n",
       " 1     44.5   39.3       45.1   1\n",
       " 2     17.2   45.9       69.3   1\n",
       " 3    151.5   41.3       58.5   1\n",
       " 4    180.8   10.8       58.4   1\n",
       " ..     ...    ...        ...  ..\n",
       " 175  276.9   48.9       41.8   1\n",
       " 176  248.4   30.2       20.3   1\n",
       " 177  170.2    7.8       35.2   1\n",
       " 178  276.7    2.3       23.7   1\n",
       " 179  165.6   10.0       17.6   1\n",
       " \n",
       " [180 rows x 4 columns],\n",
       "         TV  Radio  Newspaper  X0\n",
       " 180  156.6    2.6        8.3   1\n",
       " 181  218.5    5.4       27.4   1\n",
       " 182   56.2    5.7       29.7   1\n",
       " 183  287.6   43.0       71.8   1\n",
       " 184  253.8   21.3       30.0   1\n",
       " 185  205.0   45.1       19.6   1\n",
       " 186  139.5    2.1       26.6   1\n",
       " 187  191.1   28.7       18.2   1\n",
       " 188  286.0   13.9        3.7   1\n",
       " 189   18.7   12.1       23.4   1\n",
       " 190   39.5   41.1        5.8   1\n",
       " 191   75.5   10.8        6.0   1\n",
       " 192   17.2    4.1       31.6   1\n",
       " 193  166.8   42.0        3.6   1\n",
       " 194  149.7   35.6        6.0   1\n",
       " 195   38.2    3.7       13.8   1\n",
       " 196   94.2    4.9        8.1   1\n",
       " 197  177.0    9.3        6.4   1\n",
       " 198  283.6   42.0       66.2   1\n",
       " 199  232.1    8.6        8.7   1)"
      ]
     },
     "execution_count": 29,
     "metadata": {},
     "output_type": "execute_result"
    }
   ],
   "source": [
    "sm_train_X, sm_test_X"
   ]
  },
  {
   "cell_type": "code",
   "execution_count": 30,
   "metadata": {},
   "outputs": [
    {
     "data": {
      "text/html": [
       "<table class=\"simpletable\">\n",
       "<caption>OLS Regression Results</caption>\n",
       "<tr>\n",
       "  <th>Dep. Variable:</th>          <td>Sales</td>      <th>  R-squared:         </th> <td>   0.607</td>\n",
       "</tr>\n",
       "<tr>\n",
       "  <th>Model:</th>                   <td>OLS</td>       <th>  Adj. R-squared:    </th> <td>   0.605</td>\n",
       "</tr>\n",
       "<tr>\n",
       "  <th>Method:</th>             <td>Least Squares</td>  <th>  F-statistic:       </th> <td>   275.2</td>\n",
       "</tr>\n",
       "<tr>\n",
       "  <th>Date:</th>             <td>Fri, 10 Mar 2023</td> <th>  Prob (F-statistic):</th> <td>5.76e-38</td>\n",
       "</tr>\n",
       "<tr>\n",
       "  <th>Time:</th>                 <td>23:44:43</td>     <th>  Log-Likelihood:    </th> <td> -465.44</td>\n",
       "</tr>\n",
       "<tr>\n",
       "  <th>No. Observations:</th>      <td>   180</td>      <th>  AIC:               </th> <td>   934.9</td>\n",
       "</tr>\n",
       "<tr>\n",
       "  <th>Df Residuals:</th>          <td>   178</td>      <th>  BIC:               </th> <td>   941.3</td>\n",
       "</tr>\n",
       "<tr>\n",
       "  <th>Df Model:</th>              <td>     1</td>      <th>                     </th>     <td> </td>   \n",
       "</tr>\n",
       "<tr>\n",
       "  <th>Covariance Type:</th>      <td>nonrobust</td>    <th>                     </th>     <td> </td>   \n",
       "</tr>\n",
       "</table>\n",
       "<table class=\"simpletable\">\n",
       "<tr>\n",
       "   <td></td>     <th>coef</th>     <th>std err</th>      <th>t</th>      <th>P>|t|</th>  <th>[0.025</th>    <th>0.975]</th>  \n",
       "</tr>\n",
       "<tr>\n",
       "  <th>X0</th> <td>    7.1649</td> <td>    0.478</td> <td>   14.978</td> <td> 0.000</td> <td>    6.221</td> <td>    8.109</td>\n",
       "</tr>\n",
       "<tr>\n",
       "  <th>TV</th> <td>    0.0469</td> <td>    0.003</td> <td>   16.589</td> <td> 0.000</td> <td>    0.041</td> <td>    0.052</td>\n",
       "</tr>\n",
       "</table>\n",
       "<table class=\"simpletable\">\n",
       "<tr>\n",
       "  <th>Omnibus:</th>       <td> 0.515</td> <th>  Durbin-Watson:     </th> <td>   1.890</td>\n",
       "</tr>\n",
       "<tr>\n",
       "  <th>Prob(Omnibus):</th> <td> 0.773</td> <th>  Jarque-Bera (JB):  </th> <td>   0.547</td>\n",
       "</tr>\n",
       "<tr>\n",
       "  <th>Skew:</th>          <td>-0.127</td> <th>  Prob(JB):          </th> <td>   0.761</td>\n",
       "</tr>\n",
       "<tr>\n",
       "  <th>Kurtosis:</th>      <td> 2.906</td> <th>  Cond. No.          </th> <td>    336.</td>\n",
       "</tr>\n",
       "</table><br/><br/>Notes:<br/>[1] Standard Errors assume that the covariance matrix of the errors is correctly specified."
      ],
      "text/plain": [
       "<class 'statsmodels.iolib.summary.Summary'>\n",
       "\"\"\"\n",
       "                            OLS Regression Results                            \n",
       "==============================================================================\n",
       "Dep. Variable:                  Sales   R-squared:                       0.607\n",
       "Model:                            OLS   Adj. R-squared:                  0.605\n",
       "Method:                 Least Squares   F-statistic:                     275.2\n",
       "Date:                Fri, 10 Mar 2023   Prob (F-statistic):           5.76e-38\n",
       "Time:                        23:44:43   Log-Likelihood:                -465.44\n",
       "No. Observations:                 180   AIC:                             934.9\n",
       "Df Residuals:                     178   BIC:                             941.3\n",
       "Df Model:                           1                                         \n",
       "Covariance Type:            nonrobust                                         \n",
       "==============================================================================\n",
       "                 coef    std err          t      P>|t|      [0.025      0.975]\n",
       "------------------------------------------------------------------------------\n",
       "X0             7.1649      0.478     14.978      0.000       6.221       8.109\n",
       "TV             0.0469      0.003     16.589      0.000       0.041       0.052\n",
       "==============================================================================\n",
       "Omnibus:                        0.515   Durbin-Watson:                   1.890\n",
       "Prob(Omnibus):                  0.773   Jarque-Bera (JB):                0.547\n",
       "Skew:                          -0.127   Prob(JB):                        0.761\n",
       "Kurtosis:                       2.906   Cond. No.                         336.\n",
       "==============================================================================\n",
       "\n",
       "Notes:\n",
       "[1] Standard Errors assume that the covariance matrix of the errors is correctly specified.\n",
       "\"\"\""
      ]
     },
     "execution_count": 30,
     "metadata": {},
     "output_type": "execute_result"
    }
   ],
   "source": [
    "# 훈련 \n",
    "\n",
    "results = sm.OLS(train_y, sm_train_X[[\"X0\", \"TV\"]]).fit()\n",
    "# 결과변수(종속변수)인 train_y를 먼저 적어줌. \n",
    "\n",
    "# 훈련결과 확인\n",
    "results.summary()"
   ]
  },
  {
   "cell_type": "code",
   "execution_count": 31,
   "metadata": {},
   "outputs": [
    {
     "data": {
      "image/png": "[encoded data removed]",
      "text/plain": [
       "<Figure size 640x480 with 1 Axes>"
      ]
     },
     "metadata": {},
     "output_type": "display_data"
    }
   ],
   "source": [
    "# 데이터 시각화 \n",
    "\n",
    "plt.scatter(train_X['TV'], train_y['Sales'], color = 'gray') # train data \n",
    "plt.scatter(test_X['TV'], test_y['Sales'], color = 'red') # test data\n",
    "\n",
    "plt.plot(train_X['TV'], train_y_pred, color='blue', linewidth=2)\n",
    "plt.scatter(test_X['TV'], test_y_pred, color='red', marker='^')\n",
    "\n",
    "plt.xlabel('TV')\n",
    "plt.ylabel('Sales')\n",
    "\n",
    "plt.grid()\n",
    "plt.show()"
   ]
  }
 ],
 "metadata": {
  "kernelspec": {
   "display_name": "base",
   "language": "python",
   "name": "python3"
  },
  "language_info": {
   "codemirror_mode": {
    "name": "ipython",
    "version": 3
   },
   "file_extension": ".py",
   "mimetype": "text/x-python",
   "name": "python",
   "nbconvert_exporter": "python",
   "pygments_lexer": "ipython3",
   "version": "3.9.13"
  },
  "orig_nbformat": 4,
  "vscode": {
   "interpreter": {
    "hash": "1a95c34b36d7b0b41fb4d6aedd561c86da38ef3f6c5f9289cd34744fe0896496"
   }
  }
 },
 "nbformat": 4,
 "nbformat_minor": 2
}
