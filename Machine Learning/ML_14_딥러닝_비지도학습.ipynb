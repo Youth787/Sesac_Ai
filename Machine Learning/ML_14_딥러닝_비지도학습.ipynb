{
 "cells": [
  {
   "cell_type": "code",
   "execution_count": 1,
   "metadata": {},
   "outputs": [],
   "source": [
    "# Auto_encoder\n",
    "\n",
    "import numpy as np\n",
    "import pandas as pd\n",
    "import matplotlib.pyplot as plt \n",
    "\n",
    "import keras\n",
    "from keras import layers\n",
    "\n",
    "# mnist 데이터 불러오기\n",
    "\n",
    "from keras.datasets import mnist"
   ]
  },
  {
   "cell_type": "code",
   "execution_count": 2,
   "metadata": {},
   "outputs": [],
   "source": [
    "(x_train,_), (x_test,_)= mnist.load_data()\n",
    "# 이미지만 사용. \n",
    "\n",
    "# 0과 1 사이로 정규화\n",
    "x_train = x_train.astype('float32') / 255.\n",
    "x_test = x_test.astype('float32') / 255."
   ]
  },
  {
   "cell_type": "code",
   "execution_count": 3,
   "metadata": {},
   "outputs": [
    {
     "name": "stdout",
     "output_type": "stream",
     "text": [
      "60000\n",
      "10000\n"
     ]
    }
   ],
   "source": [
    "print(len(x_train))\n",
    "print(len(x_test))"
   ]
  },
  {
   "cell_type": "code",
   "execution_count": 4,
   "metadata": {},
   "outputs": [
    {
     "name": "stdout",
     "output_type": "stream",
     "text": [
      "(60000, 28, 28)\n",
      "(10000, 28, 28)\n"
     ]
    }
   ],
   "source": [
    "print(x_train.shape)\n",
    "print(x_test.shape)"
   ]
  },
  {
   "cell_type": "code",
   "execution_count": 5,
   "metadata": {},
   "outputs": [
    {
     "data": {
      "text/plain": [
       "(28, 28)"
      ]
     },
     "execution_count": 5,
     "metadata": {},
     "output_type": "execute_result"
    }
   ],
   "source": [
    "x_train.shape[1:]"
   ]
  },
  {
   "cell_type": "code",
   "execution_count": 6,
   "metadata": {},
   "outputs": [
    {
     "data": {
      "text/plain": [
       "784"
      ]
     },
     "execution_count": 6,
     "metadata": {},
     "output_type": "execute_result"
    }
   ],
   "source": [
    "np.prod(x_train.shape[1:]) # 내적 "
   ]
  },
  {
   "cell_type": "code",
   "execution_count": 7,
   "metadata": {},
   "outputs": [
    {
     "data": {
      "text/plain": [
       "array([[0., 0., 0., ..., 0., 0., 0.],\n",
       "       [0., 0., 0., ..., 0., 0., 0.],\n",
       "       [0., 0., 0., ..., 0., 0., 0.],\n",
       "       ...,\n",
       "       [0., 0., 0., ..., 0., 0., 0.],\n",
       "       [0., 0., 0., ..., 0., 0., 0.],\n",
       "       [0., 0., 0., ..., 0., 0., 0.]], dtype=float32)"
      ]
     },
     "execution_count": 7,
     "metadata": {},
     "output_type": "execute_result"
    }
   ],
   "source": [
    "x_train.reshape((len(x_train), np.prod(x_train.shape[1:])))"
   ]
  },
  {
   "cell_type": "code",
   "execution_count": 8,
   "metadata": {},
   "outputs": [],
   "source": [
    "x_train = x_train.reshape((len(x_train), np.prod(x_train.shape[1:])))\n",
    "x_test = x_test.reshape((len(x_test), np.prod(x_test.shape[1:])))"
   ]
  },
  {
   "cell_type": "code",
   "execution_count": 9,
   "metadata": {},
   "outputs": [
    {
     "name": "stdout",
     "output_type": "stream",
     "text": [
      "(60000, 784)\n",
      "(10000, 784)\n"
     ]
    }
   ],
   "source": [
    "print(x_train.shape)\n",
    "print(x_test.shape) \n",
    "# 차원 축소 일어났다."
   ]
  },
  {
   "cell_type": "code",
   "execution_count": 10,
   "metadata": {},
   "outputs": [],
   "source": [
    "# auto_encoder 모델 생성\n",
    "\n",
    "# encoding 되는 차원의 수\n",
    "encoding_dim = 32\n",
    "\n",
    "# input layer\n",
    "input_img = keras.Input(shape=(784,))\n",
    "\n",
    "# hidden layer (784 dimension >> 32 dimsion으롤 줄이겠다.)\n",
    "encoded = layers.Dense(encoding_dim, activation='relu')(input_img)\n",
    "\n",
    "# output layer (32 dimension >> 784 dimension)\n",
    "decoded = layers.Dense(784, activation='sigmoid')(encoded)\n",
    "\n",
    "# autoencoder 모델\n",
    "autoencoder = keras.Model(input_img,decoded)"
   ]
  },
  {
   "cell_type": "code",
   "execution_count": 11,
   "metadata": {},
   "outputs": [
    {
     "name": "stdout",
     "output_type": "stream",
     "text": [
      "Epoch 1/20\n",
      "235/235 [==============================] - 1s 2ms/step - loss: 0.2783 - val_loss: 0.1897\n",
      "Epoch 2/20\n",
      "235/235 [==============================] - 0s 2ms/step - loss: 0.1699 - val_loss: 0.1529\n",
      "Epoch 3/20\n",
      "235/235 [==============================] - 0s 2ms/step - loss: 0.1437 - val_loss: 0.1333\n",
      "Epoch 4/20\n",
      "235/235 [==============================] - 0s 2ms/step - loss: 0.1282 - val_loss: 0.1209\n",
      "Epoch 5/20\n",
      "235/235 [==============================] - 0s 2ms/step - loss: 0.1179 - val_loss: 0.1124\n",
      "Epoch 6/20\n",
      "235/235 [==============================] - 0s 2ms/step - loss: 0.1106 - val_loss: 0.1064\n",
      "Epoch 7/20\n",
      "235/235 [==============================] - 0s 2ms/step - loss: 0.1055 - val_loss: 0.1022\n",
      "Epoch 8/20\n",
      "235/235 [==============================] - 0s 2ms/step - loss: 0.1019 - val_loss: 0.0993\n",
      "Epoch 9/20\n",
      "235/235 [==============================] - 0s 2ms/step - loss: 0.0993 - val_loss: 0.0970\n",
      "Epoch 10/20\n",
      "235/235 [==============================] - 0s 2ms/step - loss: 0.0976 - val_loss: 0.0956\n",
      "Epoch 11/20\n",
      "235/235 [==============================] - 0s 2ms/step - loss: 0.0964 - val_loss: 0.0946\n",
      "Epoch 12/20\n",
      "235/235 [==============================] - 0s 2ms/step - loss: 0.0957 - val_loss: 0.0940\n",
      "Epoch 13/20\n",
      "235/235 [==============================] - 0s 2ms/step - loss: 0.0952 - val_loss: 0.0936\n",
      "Epoch 14/20\n",
      "235/235 [==============================] - 0s 2ms/step - loss: 0.0948 - val_loss: 0.0934\n",
      "Epoch 15/20\n",
      "235/235 [==============================] - 0s 2ms/step - loss: 0.0945 - val_loss: 0.0931\n",
      "Epoch 16/20\n",
      "235/235 [==============================] - 0s 2ms/step - loss: 0.0943 - val_loss: 0.0928\n",
      "Epoch 17/20\n",
      "235/235 [==============================] - 0s 2ms/step - loss: 0.0941 - val_loss: 0.0927\n",
      "Epoch 18/20\n",
      "235/235 [==============================] - 0s 2ms/step - loss: 0.0940 - val_loss: 0.0926\n",
      "Epoch 19/20\n",
      "235/235 [==============================] - 0s 2ms/step - loss: 0.0939 - val_loss: 0.0925\n",
      "Epoch 20/20\n",
      "235/235 [==============================] - 0s 2ms/step - loss: 0.0938 - val_loss: 0.0924\n"
     ]
    },
    {
     "data": {
      "text/plain": [
       "<keras.callbacks.History at 0x1bac6ff48e0>"
      ]
     },
     "execution_count": 11,
     "metadata": {},
     "output_type": "execute_result"
    }
   ],
   "source": [
    "# auto_encoder 학습 \n",
    "\n",
    "autoencoder.compile(loss='binary_crossentropy', optimizer='adam')\n",
    " \n",
    "# 적합(훈련용 데이터 활용)\n",
    "autoencoder.fit(x_train, x_train, \n",
    "                epochs=20,\n",
    "                batch_size=256,\n",
    "                shuffle=True,\n",
    "                validation_data=(x_test,x_test)) "
   ]
  },
  {
   "cell_type": "code",
   "execution_count": 12,
   "metadata": {},
   "outputs": [
    {
     "name": "stdout",
     "output_type": "stream",
     "text": [
      "313/313 [==============================] - 0s 561us/step\n"
     ]
    }
   ],
   "source": [
    "# 학습결과 확인 \n",
    "decoded_imgs = autoencoder.predict(x_test) "
   ]
  },
  {
   "cell_type": "code",
   "execution_count": 13,
   "metadata": {},
   "outputs": [
    {
     "data": {
      "image/png": "[encoded data removed]",
      "text/plain": [
       "<Figure size 2000x400 with 20 Axes>"
      ]
     },
     "metadata": {},
     "output_type": "display_data"
    }
   ],
   "source": [
    "n = 10 # 보여주고 싶은 그림 수 \n",
    "\n",
    "plt.figure(figsize=(20,4))\n",
    "\n",
    "for i in range(n): \n",
    "    # 원래 이미지\n",
    "    ax = plt.subplot(2,n,i+1)\n",
    "    plt.imshow(x_test[i].reshape(28,28))\n",
    "    plt.gray()\n",
    "    ax.get_xaxis().set_visible(False)\n",
    "    ax.get_yaxis().set_visible(False)\n",
    "    \n",
    "    # 복원된 이미지\n",
    "    ax = plt.subplot(2,n, i+1+n)\n",
    "    plt.imshow(decoded_imgs[i].reshape(28,28))\n",
    "    plt.gray() \n",
    "    ax.get_xaxis().set_visible(False)\n",
    "    ax.get_yaxis().set_visible(False) \n",
    "    \n",
    "plt.show()"
   ]
  },
  {
   "cell_type": "code",
   "execution_count": null,
   "metadata": {},
   "outputs": [],
   "source": []
  }
 ],
 "metadata": {
  "kernelspec": {
   "display_name": "base",
   "language": "python",
   "name": "python3"
  },
  "language_info": {
   "codemirror_mode": {
    "name": "ipython",
    "version": 3
   },
   "file_extension": ".py",
   "mimetype": "text/x-python",
   "name": "python",
   "nbconvert_exporter": "python",
   "pygments_lexer": "ipython3",
   "version": "3.9.13"
  },
  "orig_nbformat": 4
 },
 "nbformat": 4,
 "nbformat_minor": 2
}
